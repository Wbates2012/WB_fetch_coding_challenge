{
 "cells": [
  {
   "cell_type": "markdown",
   "metadata": {},
   "source": [
    "# Evaluate Data Quality Issues in the Data Provided\n",
    "This notebook illustrates my process for assessing data quality when given new datasets. I included notes in Markdown along the way, to serve as a guide for my data cleaning and analysis."
   ]
  },
  {
   "cell_type": "code",
   "execution_count": 1,
   "metadata": {},
   "outputs": [],
   "source": [
    "import json\n",
    "import pandas as pd\n",
    "from collections import Counter\n",
    "\n",
    "import sqlite3"
   ]
  },
  {
   "cell_type": "markdown",
   "metadata": {},
   "source": [
    "# Receipt Table"
   ]
  },
  {
   "cell_type": "code",
   "execution_count": 2,
   "metadata": {
    "scrolled": false
   },
   "outputs": [
    {
     "data": {
      "text/html": [
       "<div>\n",
       "<style scoped>\n",
       "    .dataframe tbody tr th:only-of-type {\n",
       "        vertical-align: middle;\n",
       "    }\n",
       "\n",
       "    .dataframe tbody tr th {\n",
       "        vertical-align: top;\n",
       "    }\n",
       "\n",
       "    .dataframe thead th {\n",
       "        text-align: right;\n",
       "    }\n",
       "</style>\n",
       "<table border=\"1\" class=\"dataframe\">\n",
       "  <thead>\n",
       "    <tr style=\"text-align: right;\">\n",
       "      <th></th>\n",
       "      <th>_id</th>\n",
       "      <th>bonusPointsEarned</th>\n",
       "      <th>bonusPointsEarnedReason</th>\n",
       "      <th>createDate</th>\n",
       "      <th>dateScanned</th>\n",
       "      <th>finishedDate</th>\n",
       "      <th>modifyDate</th>\n",
       "      <th>pointsAwardedDate</th>\n",
       "      <th>pointsEarned</th>\n",
       "      <th>purchaseDate</th>\n",
       "      <th>purchasedItemCount</th>\n",
       "      <th>rewardsReceiptItemList</th>\n",
       "      <th>rewardsReceiptStatus</th>\n",
       "      <th>totalSpent</th>\n",
       "      <th>userId</th>\n",
       "    </tr>\n",
       "  </thead>\n",
       "  <tbody>\n",
       "    <tr>\n",
       "      <td>0</td>\n",
       "      <td>{'$oid': '5ff1e1eb0a720f0523000575'}</td>\n",
       "      <td>500.0</td>\n",
       "      <td>Receipt number 2 completed, bonus point schedu...</td>\n",
       "      <td>{'$date': 1609687531000}</td>\n",
       "      <td>{'$date': 1609687531000}</td>\n",
       "      <td>{'$date': 1609687531000}</td>\n",
       "      <td>{'$date': 1609687536000}</td>\n",
       "      <td>{'$date': 1609687531000}</td>\n",
       "      <td>500.0</td>\n",
       "      <td>{'$date': 1609632000000}</td>\n",
       "      <td>5.0</td>\n",
       "      <td>[{'barcode': '4011', 'description': 'ITEM NOT ...</td>\n",
       "      <td>FINISHED</td>\n",
       "      <td>26.0</td>\n",
       "      <td>5ff1e1eacfcf6c399c274ae6</td>\n",
       "    </tr>\n",
       "    <tr>\n",
       "      <td>1</td>\n",
       "      <td>{'$oid': '5ff1e1bb0a720f052300056b'}</td>\n",
       "      <td>150.0</td>\n",
       "      <td>Receipt number 5 completed, bonus point schedu...</td>\n",
       "      <td>{'$date': 1609687483000}</td>\n",
       "      <td>{'$date': 1609687483000}</td>\n",
       "      <td>{'$date': 1609687483000}</td>\n",
       "      <td>{'$date': 1609687488000}</td>\n",
       "      <td>{'$date': 1609687483000}</td>\n",
       "      <td>150.0</td>\n",
       "      <td>{'$date': 1609601083000}</td>\n",
       "      <td>2.0</td>\n",
       "      <td>[{'barcode': '4011', 'description': 'ITEM NOT ...</td>\n",
       "      <td>FINISHED</td>\n",
       "      <td>11.0</td>\n",
       "      <td>5ff1e194b6a9d73a3a9f1052</td>\n",
       "    </tr>\n",
       "    <tr>\n",
       "      <td>2</td>\n",
       "      <td>{'$oid': '5ff1e1f10a720f052300057a'}</td>\n",
       "      <td>5.0</td>\n",
       "      <td>All-receipts receipt bonus</td>\n",
       "      <td>{'$date': 1609687537000}</td>\n",
       "      <td>{'$date': 1609687537000}</td>\n",
       "      <td>NaN</td>\n",
       "      <td>{'$date': 1609687542000}</td>\n",
       "      <td>NaN</td>\n",
       "      <td>5.0</td>\n",
       "      <td>{'$date': 1609632000000}</td>\n",
       "      <td>1.0</td>\n",
       "      <td>[{'needsFetchReview': False, 'partnerItemId': ...</td>\n",
       "      <td>REJECTED</td>\n",
       "      <td>10.0</td>\n",
       "      <td>5ff1e1f1cfcf6c399c274b0b</td>\n",
       "    </tr>\n",
       "    <tr>\n",
       "      <td>3</td>\n",
       "      <td>{'$oid': '5ff1e1ee0a7214ada100056f'}</td>\n",
       "      <td>5.0</td>\n",
       "      <td>All-receipts receipt bonus</td>\n",
       "      <td>{'$date': 1609687534000}</td>\n",
       "      <td>{'$date': 1609687534000}</td>\n",
       "      <td>{'$date': 1609687534000}</td>\n",
       "      <td>{'$date': 1609687539000}</td>\n",
       "      <td>{'$date': 1609687534000}</td>\n",
       "      <td>5.0</td>\n",
       "      <td>{'$date': 1609632000000}</td>\n",
       "      <td>4.0</td>\n",
       "      <td>[{'barcode': '4011', 'description': 'ITEM NOT ...</td>\n",
       "      <td>FINISHED</td>\n",
       "      <td>28.0</td>\n",
       "      <td>5ff1e1eacfcf6c399c274ae6</td>\n",
       "    </tr>\n",
       "    <tr>\n",
       "      <td>4</td>\n",
       "      <td>{'$oid': '5ff1e1d20a7214ada1000561'}</td>\n",
       "      <td>5.0</td>\n",
       "      <td>All-receipts receipt bonus</td>\n",
       "      <td>{'$date': 1609687506000}</td>\n",
       "      <td>{'$date': 1609687506000}</td>\n",
       "      <td>{'$date': 1609687511000}</td>\n",
       "      <td>{'$date': 1609687511000}</td>\n",
       "      <td>{'$date': 1609687506000}</td>\n",
       "      <td>5.0</td>\n",
       "      <td>{'$date': 1609601106000}</td>\n",
       "      <td>2.0</td>\n",
       "      <td>[{'barcode': '4011', 'description': 'ITEM NOT ...</td>\n",
       "      <td>FINISHED</td>\n",
       "      <td>1.0</td>\n",
       "      <td>5ff1e194b6a9d73a3a9f1052</td>\n",
       "    </tr>\n",
       "  </tbody>\n",
       "</table>\n",
       "</div>"
      ],
      "text/plain": [
       "                                    _id  bonusPointsEarned  \\\n",
       "0  {'$oid': '5ff1e1eb0a720f0523000575'}              500.0   \n",
       "1  {'$oid': '5ff1e1bb0a720f052300056b'}              150.0   \n",
       "2  {'$oid': '5ff1e1f10a720f052300057a'}                5.0   \n",
       "3  {'$oid': '5ff1e1ee0a7214ada100056f'}                5.0   \n",
       "4  {'$oid': '5ff1e1d20a7214ada1000561'}                5.0   \n",
       "\n",
       "                             bonusPointsEarnedReason  \\\n",
       "0  Receipt number 2 completed, bonus point schedu...   \n",
       "1  Receipt number 5 completed, bonus point schedu...   \n",
       "2                         All-receipts receipt bonus   \n",
       "3                         All-receipts receipt bonus   \n",
       "4                         All-receipts receipt bonus   \n",
       "\n",
       "                 createDate               dateScanned  \\\n",
       "0  {'$date': 1609687531000}  {'$date': 1609687531000}   \n",
       "1  {'$date': 1609687483000}  {'$date': 1609687483000}   \n",
       "2  {'$date': 1609687537000}  {'$date': 1609687537000}   \n",
       "3  {'$date': 1609687534000}  {'$date': 1609687534000}   \n",
       "4  {'$date': 1609687506000}  {'$date': 1609687506000}   \n",
       "\n",
       "               finishedDate                modifyDate  \\\n",
       "0  {'$date': 1609687531000}  {'$date': 1609687536000}   \n",
       "1  {'$date': 1609687483000}  {'$date': 1609687488000}   \n",
       "2                       NaN  {'$date': 1609687542000}   \n",
       "3  {'$date': 1609687534000}  {'$date': 1609687539000}   \n",
       "4  {'$date': 1609687511000}  {'$date': 1609687511000}   \n",
       "\n",
       "          pointsAwardedDate  pointsEarned              purchaseDate  \\\n",
       "0  {'$date': 1609687531000}         500.0  {'$date': 1609632000000}   \n",
       "1  {'$date': 1609687483000}         150.0  {'$date': 1609601083000}   \n",
       "2                       NaN           5.0  {'$date': 1609632000000}   \n",
       "3  {'$date': 1609687534000}           5.0  {'$date': 1609632000000}   \n",
       "4  {'$date': 1609687506000}           5.0  {'$date': 1609601106000}   \n",
       "\n",
       "   purchasedItemCount                             rewardsReceiptItemList  \\\n",
       "0                 5.0  [{'barcode': '4011', 'description': 'ITEM NOT ...   \n",
       "1                 2.0  [{'barcode': '4011', 'description': 'ITEM NOT ...   \n",
       "2                 1.0  [{'needsFetchReview': False, 'partnerItemId': ...   \n",
       "3                 4.0  [{'barcode': '4011', 'description': 'ITEM NOT ...   \n",
       "4                 2.0  [{'barcode': '4011', 'description': 'ITEM NOT ...   \n",
       "\n",
       "  rewardsReceiptStatus  totalSpent                    userId  \n",
       "0             FINISHED        26.0  5ff1e1eacfcf6c399c274ae6  \n",
       "1             FINISHED        11.0  5ff1e194b6a9d73a3a9f1052  \n",
       "2             REJECTED        10.0  5ff1e1f1cfcf6c399c274b0b  \n",
       "3             FINISHED        28.0  5ff1e1eacfcf6c399c274ae6  \n",
       "4             FINISHED         1.0  5ff1e194b6a9d73a3a9f1052  "
      ]
     },
     "execution_count": 2,
     "metadata": {},
     "output_type": "execute_result"
    }
   ],
   "source": [
    "receipts = pd.read_json('receipts.json', lines=True)\n",
    "receipts.head()"
   ]
  },
  {
   "cell_type": "code",
   "execution_count": 3,
   "metadata": {},
   "outputs": [],
   "source": [
    "# Make a copy to use for creating Item table\n",
    "receipts_for_items = receipts.copy()"
   ]
  },
  {
   "cell_type": "markdown",
   "metadata": {},
   "source": [
    "The first step is to confirm that the primary key of the table is indeed unique."
   ]
  },
  {
   "cell_type": "code",
   "execution_count": 4,
   "metadata": {},
   "outputs": [
    {
     "name": "stdout",
     "output_type": "stream",
     "text": [
      "1119\n",
      "1119\n"
     ]
    }
   ],
   "source": [
    "print(len(receipts))\n",
    "\n",
    "list_of_recids = [row['$oid'] for row in receipts['_id']]\n",
    "print(len(set(list_of_recids)))"
   ]
  },
  {
   "cell_type": "markdown",
   "metadata": {},
   "source": [
    "Though there are 1,119 rows of data in this table, many are missing values in various columns. Some missing values are likely due to receipts that have not finished processing, but others appear to be incorrect data. For example, when we only look at receipts that have been tagged as \"Finished\", there are still two receipts with no items on them."
   ]
  },
  {
   "cell_type": "code",
   "execution_count": 5,
   "metadata": {},
   "outputs": [
    {
     "data": {
      "text/plain": [
       "_id                        1119\n",
       "bonusPointsEarned           544\n",
       "bonusPointsEarnedReason     544\n",
       "createDate                 1119\n",
       "dateScanned                1119\n",
       "finishedDate                568\n",
       "modifyDate                 1119\n",
       "pointsAwardedDate           537\n",
       "pointsEarned                609\n",
       "purchaseDate                671\n",
       "purchasedItemCount          635\n",
       "rewardsReceiptItemList      679\n",
       "rewardsReceiptStatus       1119\n",
       "totalSpent                  684\n",
       "userId                     1119\n",
       "dtype: int64"
      ]
     },
     "execution_count": 5,
     "metadata": {},
     "output_type": "execute_result"
    }
   ],
   "source": [
    "receipts.count()"
   ]
  },
  {
   "cell_type": "code",
   "execution_count": 6,
   "metadata": {},
   "outputs": [
    {
     "data": {
      "text/plain": [
       "_id                        518\n",
       "bonusPointsEarned          456\n",
       "bonusPointsEarnedReason    456\n",
       "createDate                 518\n",
       "dateScanned                518\n",
       "finishedDate               518\n",
       "modifyDate                 518\n",
       "pointsAwardedDate          514\n",
       "pointsEarned               518\n",
       "purchaseDate               518\n",
       "purchasedItemCount         518\n",
       "rewardsReceiptItemList     516\n",
       "rewardsReceiptStatus       518\n",
       "totalSpent                 518\n",
       "userId                     518\n",
       "dtype: int64"
      ]
     },
     "execution_count": 6,
     "metadata": {},
     "output_type": "execute_result"
    }
   ],
   "source": [
    "receipts[receipts['rewardsReceiptStatus']=='FINISHED'].count()"
   ]
  },
  {
   "cell_type": "markdown",
   "metadata": {},
   "source": [
    "Looking deeper into only the finished receipts, several have issues with the items claimed to be included on them. Some receipts have a purchasedItemCount of zero. Others fail to match the quantityPurchased with the count of items in the rewardsReceiptItemList. Still others don't have a quantityPurchased label in their item lists at all."
   ]
  },
  {
   "cell_type": "code",
   "execution_count": 7,
   "metadata": {},
   "outputs": [],
   "source": [
    "finished_receipts = receipts[receipts['rewardsReceiptStatus']=='FINISHED']"
   ]
  },
  {
   "cell_type": "code",
   "execution_count": 8,
   "metadata": {},
   "outputs": [
    {
     "data": {
      "text/html": [
       "<div>\n",
       "<style scoped>\n",
       "    .dataframe tbody tr th:only-of-type {\n",
       "        vertical-align: middle;\n",
       "    }\n",
       "\n",
       "    .dataframe tbody tr th {\n",
       "        vertical-align: top;\n",
       "    }\n",
       "\n",
       "    .dataframe thead th {\n",
       "        text-align: right;\n",
       "    }\n",
       "</style>\n",
       "<table border=\"1\" class=\"dataframe\">\n",
       "  <thead>\n",
       "    <tr style=\"text-align: right;\">\n",
       "      <th></th>\n",
       "      <th>_id</th>\n",
       "      <th>bonusPointsEarned</th>\n",
       "      <th>bonusPointsEarnedReason</th>\n",
       "      <th>createDate</th>\n",
       "      <th>dateScanned</th>\n",
       "      <th>finishedDate</th>\n",
       "      <th>modifyDate</th>\n",
       "      <th>pointsAwardedDate</th>\n",
       "      <th>pointsEarned</th>\n",
       "      <th>purchaseDate</th>\n",
       "      <th>purchasedItemCount</th>\n",
       "      <th>rewardsReceiptItemList</th>\n",
       "      <th>rewardsReceiptStatus</th>\n",
       "      <th>totalSpent</th>\n",
       "      <th>userId</th>\n",
       "    </tr>\n",
       "  </thead>\n",
       "  <tbody>\n",
       "    <tr>\n",
       "      <td>396</td>\n",
       "      <td>{'$oid': '6009eb000a7214ada2000003'}</td>\n",
       "      <td>250.0</td>\n",
       "      <td>Receipt number 3 completed, bonus point schedu...</td>\n",
       "      <td>{'$date': 1611262720000}</td>\n",
       "      <td>{'$date': 1611262720000}</td>\n",
       "      <td>{'$date': 1611262746000}</td>\n",
       "      <td>{'$date': 1611262755000}</td>\n",
       "      <td>{'$date': 1611262746000}</td>\n",
       "      <td>250.0</td>\n",
       "      <td>{'$date': 1611187200000}</td>\n",
       "      <td>0.0</td>\n",
       "      <td>NaN</td>\n",
       "      <td>FINISHED</td>\n",
       "      <td>0.0</td>\n",
       "      <td>6009e60450b3311194385009</td>\n",
       "    </tr>\n",
       "    <tr>\n",
       "      <td>424</td>\n",
       "      <td>{'$oid': '600aff160a720f053500000c'}</td>\n",
       "      <td>500.0</td>\n",
       "      <td>Receipt number 2 completed, bonus point schedu...</td>\n",
       "      <td>{'$date': 1611333398000}</td>\n",
       "      <td>{'$date': 1611333398000}</td>\n",
       "      <td>{'$date': 1611333421000}</td>\n",
       "      <td>{'$date': 1611333433000}</td>\n",
       "      <td>{'$date': 1611333421000}</td>\n",
       "      <td>500.0</td>\n",
       "      <td>{'$date': 1611273600000}</td>\n",
       "      <td>0.0</td>\n",
       "      <td>NaN</td>\n",
       "      <td>FINISHED</td>\n",
       "      <td>0.0</td>\n",
       "      <td>600afb2a7d983a124e9aded0</td>\n",
       "    </tr>\n",
       "  </tbody>\n",
       "</table>\n",
       "</div>"
      ],
      "text/plain": [
       "                                      _id  bonusPointsEarned  \\\n",
       "396  {'$oid': '6009eb000a7214ada2000003'}              250.0   \n",
       "424  {'$oid': '600aff160a720f053500000c'}              500.0   \n",
       "\n",
       "                               bonusPointsEarnedReason  \\\n",
       "396  Receipt number 3 completed, bonus point schedu...   \n",
       "424  Receipt number 2 completed, bonus point schedu...   \n",
       "\n",
       "                   createDate               dateScanned  \\\n",
       "396  {'$date': 1611262720000}  {'$date': 1611262720000}   \n",
       "424  {'$date': 1611333398000}  {'$date': 1611333398000}   \n",
       "\n",
       "                 finishedDate                modifyDate  \\\n",
       "396  {'$date': 1611262746000}  {'$date': 1611262755000}   \n",
       "424  {'$date': 1611333421000}  {'$date': 1611333433000}   \n",
       "\n",
       "            pointsAwardedDate  pointsEarned              purchaseDate  \\\n",
       "396  {'$date': 1611262746000}         250.0  {'$date': 1611187200000}   \n",
       "424  {'$date': 1611333421000}         500.0  {'$date': 1611273600000}   \n",
       "\n",
       "     purchasedItemCount rewardsReceiptItemList rewardsReceiptStatus  \\\n",
       "396                 0.0                    NaN             FINISHED   \n",
       "424                 0.0                    NaN             FINISHED   \n",
       "\n",
       "     totalSpent                    userId  \n",
       "396         0.0  6009e60450b3311194385009  \n",
       "424         0.0  600afb2a7d983a124e9aded0  "
      ]
     },
     "execution_count": 8,
     "metadata": {},
     "output_type": "execute_result"
    }
   ],
   "source": [
    "finished_receipts[finished_receipts['purchasedItemCount']<1]"
   ]
  },
  {
   "cell_type": "code",
   "execution_count": 9,
   "metadata": {},
   "outputs": [],
   "source": [
    "finished_receipts = finished_receipts[finished_receipts['purchasedItemCount']>=1]"
   ]
  },
  {
   "cell_type": "code",
   "execution_count": 10,
   "metadata": {},
   "outputs": [
    {
     "name": "stdout",
     "output_type": "stream",
     "text": [
      "Mismatch at index: 4\n",
      "KeyError at index: 19\n",
      "KeyError at index: 24\n",
      "KeyError at index: 26\n",
      "KeyError at index: 72\n",
      "KeyError at index: 87\n",
      "KeyError at index: 133\n",
      "Mismatch at index: 138\n",
      "KeyError at index: 140\n",
      "KeyError at index: 143\n",
      "KeyError at index: 146\n",
      "KeyError at index: 157\n",
      "KeyError at index: 162\n",
      "Mismatch at index: 163\n",
      "KeyError at index: 178\n",
      "KeyError at index: 191\n",
      "Mismatch at index: 200\n",
      "KeyError at index: 204\n",
      "KeyError at index: 208\n",
      "KeyError at index: 261\n",
      "Mismatch at index: 378\n",
      "KeyError at index: 379\n",
      "Mismatch at index: 489\n",
      "Mismatch at index: 534\n",
      "KeyError at index: 551\n",
      "KeyError at index: 564\n",
      "KeyError at index: 569\n",
      "KeyError at index: 651\n",
      "KeyError at index: 736\n",
      "KeyError at index: 895\n",
      "KeyError at index: 948\n",
      "Mismatch at index: 964\n"
     ]
    }
   ],
   "source": [
    "# A \"mismatch\" occurs when the quantity on the receipt is different from the sum of items on the receipt.\n",
    "# A Key Error occurs when there is no quantity listed on the receipt.\n",
    "for index,row in finished_receipts.iterrows():\n",
    "    try:\n",
    "        qp = sum([elem['quantityPurchased'] for elem in row['rewardsReceiptItemList']])\n",
    "        quantity_match = (qp == row['purchasedItemCount'])\n",
    "        if quantity_match == False:\n",
    "            print('Mismatch at index: ' + str(index))\n",
    "    except KeyError as e:\n",
    "        print('KeyError at index: ' + str(index))"
   ]
  },
  {
   "cell_type": "markdown",
   "metadata": {},
   "source": [
    "Another way to assess data quality is by checking if the dates are in a logical order."
   ]
  },
  {
   "cell_type": "code",
   "execution_count": 11,
   "metadata": {},
   "outputs": [],
   "source": [
    "for index,row in finished_receipts[~pd.isna(finished_receipts['finishedDate'])].iterrows():\n",
    "    c_date = pd.to_datetime(row['createDate']['$date'], unit='ms')\n",
    "    f_date = pd.to_datetime(row['finishedDate']['$date'], unit='ms')\n",
    "    if c_date > f_date:\n",
    "        print('Logical error at index: ' + str(index))"
   ]
  },
  {
   "cell_type": "code",
   "execution_count": 12,
   "metadata": {},
   "outputs": [
    {
     "name": "stdout",
     "output_type": "stream",
     "text": [
      "Logical error at index: 14\n",
      "Logical error at index: 85\n",
      "Logical error at index: 244\n",
      "Logical error at index: 362\n",
      "Logical error at index: 553\n",
      "Logical error at index: 644\n",
      "Logical error at index: 871\n"
     ]
    }
   ],
   "source": [
    "for index,row in finished_receipts[~pd.isna(finished_receipts['finishedDate'])].iterrows():\n",
    "    p_date = pd.to_datetime(row['purchaseDate']['$date'], unit='ms')\n",
    "    f_date = pd.to_datetime(row['finishedDate']['$date'], unit='ms')\n",
    "    if p_date > f_date:\n",
    "        print('Logical error at index: ' + str(index))"
   ]
  },
  {
   "cell_type": "markdown",
   "metadata": {},
   "source": [
    "I would not expect purchaseDate to be able to be after finishedDate, which raises red flags about data quality."
   ]
  },
  {
   "cell_type": "markdown",
   "metadata": {},
   "source": [
    "Since we're going to make a new table for Items, we can drop that column from the Receipts table. As purchasedItemCount and totalSpent are only transitively dependent on the primary key and thereform violate normal form, we should drop those columns as well."
   ]
  },
  {
   "cell_type": "code",
   "execution_count": 13,
   "metadata": {},
   "outputs": [],
   "source": [
    "receipts = receipts.drop(['rewardsReceiptItemList', 'purchasedItemCount', 'totalSpent'], axis=1)"
   ]
  },
  {
   "cell_type": "markdown",
   "metadata": {},
   "source": [
    "Lastly, we can clean up the formatting for when we want to query the data in SQL."
   ]
  },
  {
   "cell_type": "code",
   "execution_count": 14,
   "metadata": {},
   "outputs": [],
   "source": [
    "temp_field = []\n",
    "for row in receipts['_id']:\n",
    "    temp_value = row['$oid']\n",
    "    temp_field.append(temp_value)\n",
    "receipts['receiptID'] = temp_field\n",
    "receipts.insert(0, 'receiptID', receipts.pop('receiptID'))\n",
    "receipts = receipts.drop(['_id'], axis=1)"
   ]
  },
  {
   "cell_type": "code",
   "execution_count": 15,
   "metadata": {},
   "outputs": [],
   "source": [
    "for i in ['createDate', 'dateScanned', 'finishedDate', 'modifyDate', 'pointsAwardedDate', 'purchaseDate']:\n",
    "    temp_field = []\n",
    "    for row in receipts[i]:\n",
    "        try:\n",
    "            temp_value = pd.to_datetime(row['$date'], unit='ms')\n",
    "            temp_field.append(temp_value)\n",
    "        except:\n",
    "            temp_field.append(None)\n",
    "    receipts[i] = temp_field"
   ]
  },
  {
   "cell_type": "code",
   "execution_count": 16,
   "metadata": {},
   "outputs": [],
   "source": [
    "receipts = receipts.rename(columns={'userId': 'userID'})"
   ]
  },
  {
   "cell_type": "code",
   "execution_count": 17,
   "metadata": {},
   "outputs": [
    {
     "data": {
      "text/html": [
       "<div>\n",
       "<style scoped>\n",
       "    .dataframe tbody tr th:only-of-type {\n",
       "        vertical-align: middle;\n",
       "    }\n",
       "\n",
       "    .dataframe tbody tr th {\n",
       "        vertical-align: top;\n",
       "    }\n",
       "\n",
       "    .dataframe thead th {\n",
       "        text-align: right;\n",
       "    }\n",
       "</style>\n",
       "<table border=\"1\" class=\"dataframe\">\n",
       "  <thead>\n",
       "    <tr style=\"text-align: right;\">\n",
       "      <th></th>\n",
       "      <th>receiptID</th>\n",
       "      <th>bonusPointsEarned</th>\n",
       "      <th>bonusPointsEarnedReason</th>\n",
       "      <th>createDate</th>\n",
       "      <th>dateScanned</th>\n",
       "      <th>finishedDate</th>\n",
       "      <th>modifyDate</th>\n",
       "      <th>pointsAwardedDate</th>\n",
       "      <th>pointsEarned</th>\n",
       "      <th>purchaseDate</th>\n",
       "      <th>rewardsReceiptStatus</th>\n",
       "      <th>userID</th>\n",
       "    </tr>\n",
       "  </thead>\n",
       "  <tbody>\n",
       "    <tr>\n",
       "      <td>0</td>\n",
       "      <td>5ff1e1eb0a720f0523000575</td>\n",
       "      <td>500.0</td>\n",
       "      <td>Receipt number 2 completed, bonus point schedu...</td>\n",
       "      <td>2021-01-03 15:25:31</td>\n",
       "      <td>2021-01-03 15:25:31</td>\n",
       "      <td>2021-01-03 15:25:31</td>\n",
       "      <td>2021-01-03 15:25:36</td>\n",
       "      <td>2021-01-03 15:25:31</td>\n",
       "      <td>500.0</td>\n",
       "      <td>2021-01-03 00:00:00</td>\n",
       "      <td>FINISHED</td>\n",
       "      <td>5ff1e1eacfcf6c399c274ae6</td>\n",
       "    </tr>\n",
       "    <tr>\n",
       "      <td>1</td>\n",
       "      <td>5ff1e1bb0a720f052300056b</td>\n",
       "      <td>150.0</td>\n",
       "      <td>Receipt number 5 completed, bonus point schedu...</td>\n",
       "      <td>2021-01-03 15:24:43</td>\n",
       "      <td>2021-01-03 15:24:43</td>\n",
       "      <td>2021-01-03 15:24:43</td>\n",
       "      <td>2021-01-03 15:24:48</td>\n",
       "      <td>2021-01-03 15:24:43</td>\n",
       "      <td>150.0</td>\n",
       "      <td>2021-01-02 15:24:43</td>\n",
       "      <td>FINISHED</td>\n",
       "      <td>5ff1e194b6a9d73a3a9f1052</td>\n",
       "    </tr>\n",
       "    <tr>\n",
       "      <td>2</td>\n",
       "      <td>5ff1e1f10a720f052300057a</td>\n",
       "      <td>5.0</td>\n",
       "      <td>All-receipts receipt bonus</td>\n",
       "      <td>2021-01-03 15:25:37</td>\n",
       "      <td>2021-01-03 15:25:37</td>\n",
       "      <td>NaT</td>\n",
       "      <td>2021-01-03 15:25:42</td>\n",
       "      <td>NaT</td>\n",
       "      <td>5.0</td>\n",
       "      <td>2021-01-03 00:00:00</td>\n",
       "      <td>REJECTED</td>\n",
       "      <td>5ff1e1f1cfcf6c399c274b0b</td>\n",
       "    </tr>\n",
       "    <tr>\n",
       "      <td>3</td>\n",
       "      <td>5ff1e1ee0a7214ada100056f</td>\n",
       "      <td>5.0</td>\n",
       "      <td>All-receipts receipt bonus</td>\n",
       "      <td>2021-01-03 15:25:34</td>\n",
       "      <td>2021-01-03 15:25:34</td>\n",
       "      <td>2021-01-03 15:25:34</td>\n",
       "      <td>2021-01-03 15:25:39</td>\n",
       "      <td>2021-01-03 15:25:34</td>\n",
       "      <td>5.0</td>\n",
       "      <td>2021-01-03 00:00:00</td>\n",
       "      <td>FINISHED</td>\n",
       "      <td>5ff1e1eacfcf6c399c274ae6</td>\n",
       "    </tr>\n",
       "    <tr>\n",
       "      <td>4</td>\n",
       "      <td>5ff1e1d20a7214ada1000561</td>\n",
       "      <td>5.0</td>\n",
       "      <td>All-receipts receipt bonus</td>\n",
       "      <td>2021-01-03 15:25:06</td>\n",
       "      <td>2021-01-03 15:25:06</td>\n",
       "      <td>2021-01-03 15:25:11</td>\n",
       "      <td>2021-01-03 15:25:11</td>\n",
       "      <td>2021-01-03 15:25:06</td>\n",
       "      <td>5.0</td>\n",
       "      <td>2021-01-02 15:25:06</td>\n",
       "      <td>FINISHED</td>\n",
       "      <td>5ff1e194b6a9d73a3a9f1052</td>\n",
       "    </tr>\n",
       "  </tbody>\n",
       "</table>\n",
       "</div>"
      ],
      "text/plain": [
       "                  receiptID  bonusPointsEarned  \\\n",
       "0  5ff1e1eb0a720f0523000575              500.0   \n",
       "1  5ff1e1bb0a720f052300056b              150.0   \n",
       "2  5ff1e1f10a720f052300057a                5.0   \n",
       "3  5ff1e1ee0a7214ada100056f                5.0   \n",
       "4  5ff1e1d20a7214ada1000561                5.0   \n",
       "\n",
       "                             bonusPointsEarnedReason          createDate  \\\n",
       "0  Receipt number 2 completed, bonus point schedu... 2021-01-03 15:25:31   \n",
       "1  Receipt number 5 completed, bonus point schedu... 2021-01-03 15:24:43   \n",
       "2                         All-receipts receipt bonus 2021-01-03 15:25:37   \n",
       "3                         All-receipts receipt bonus 2021-01-03 15:25:34   \n",
       "4                         All-receipts receipt bonus 2021-01-03 15:25:06   \n",
       "\n",
       "          dateScanned        finishedDate          modifyDate  \\\n",
       "0 2021-01-03 15:25:31 2021-01-03 15:25:31 2021-01-03 15:25:36   \n",
       "1 2021-01-03 15:24:43 2021-01-03 15:24:43 2021-01-03 15:24:48   \n",
       "2 2021-01-03 15:25:37                 NaT 2021-01-03 15:25:42   \n",
       "3 2021-01-03 15:25:34 2021-01-03 15:25:34 2021-01-03 15:25:39   \n",
       "4 2021-01-03 15:25:06 2021-01-03 15:25:11 2021-01-03 15:25:11   \n",
       "\n",
       "    pointsAwardedDate  pointsEarned        purchaseDate rewardsReceiptStatus  \\\n",
       "0 2021-01-03 15:25:31         500.0 2021-01-03 00:00:00             FINISHED   \n",
       "1 2021-01-03 15:24:43         150.0 2021-01-02 15:24:43             FINISHED   \n",
       "2                 NaT           5.0 2021-01-03 00:00:00             REJECTED   \n",
       "3 2021-01-03 15:25:34           5.0 2021-01-03 00:00:00             FINISHED   \n",
       "4 2021-01-03 15:25:06           5.0 2021-01-02 15:25:06             FINISHED   \n",
       "\n",
       "                     userID  \n",
       "0  5ff1e1eacfcf6c399c274ae6  \n",
       "1  5ff1e194b6a9d73a3a9f1052  \n",
       "2  5ff1e1f1cfcf6c399c274b0b  \n",
       "3  5ff1e1eacfcf6c399c274ae6  \n",
       "4  5ff1e194b6a9d73a3a9f1052  "
      ]
     },
     "execution_count": 17,
     "metadata": {},
     "output_type": "execute_result"
    }
   ],
   "source": [
    "receipts.head()"
   ]
  },
  {
   "cell_type": "markdown",
   "metadata": {},
   "source": [
    "# Items on Receipt Table"
   ]
  },
  {
   "cell_type": "markdown",
   "metadata": {},
   "source": [
    "To assess the data quality of the items on the receipts, we first create a table with a row for each item. The primary key will be the combination of a receipt ID and a barcode."
   ]
  },
  {
   "cell_type": "code",
   "execution_count": 18,
   "metadata": {},
   "outputs": [],
   "source": [
    "def convert(row):\n",
    "    new_rows = []\n",
    "    for item in row['rewardsReceiptItemList']:\n",
    "        item_on_rec = item.copy()\n",
    "        item_on_rec['receiptID'] = row['_id']['$oid']\n",
    "        new_rows.append(item_on_rec)\n",
    "    return new_rows"
   ]
  },
  {
   "cell_type": "code",
   "execution_count": 19,
   "metadata": {},
   "outputs": [],
   "source": [
    "receipts_occupied = receipts_for_items.dropna(subset=['rewardsReceiptItemList'])\n",
    "\n",
    "item_receipt_rows = []\n",
    "for index, row in receipts_occupied.iterrows():\n",
    "    item_receipt_rows.append(convert(row))"
   ]
  },
  {
   "cell_type": "code",
   "execution_count": 20,
   "metadata": {},
   "outputs": [],
   "source": [
    "item_receipt_rows = [elem for item in item_receipt_rows for elem in item]"
   ]
  },
  {
   "cell_type": "code",
   "execution_count": 21,
   "metadata": {},
   "outputs": [],
   "source": [
    "item_on_receipt = pd.DataFrame.from_dict(item_receipt_rows)"
   ]
  },
  {
   "cell_type": "code",
   "execution_count": 22,
   "metadata": {},
   "outputs": [
    {
     "data": {
      "text/html": [
       "<div>\n",
       "<style scoped>\n",
       "    .dataframe tbody tr th:only-of-type {\n",
       "        vertical-align: middle;\n",
       "    }\n",
       "\n",
       "    .dataframe tbody tr th {\n",
       "        vertical-align: top;\n",
       "    }\n",
       "\n",
       "    .dataframe thead th {\n",
       "        text-align: right;\n",
       "    }\n",
       "</style>\n",
       "<table border=\"1\" class=\"dataframe\">\n",
       "  <thead>\n",
       "    <tr style=\"text-align: right;\">\n",
       "      <th></th>\n",
       "      <th>barcode</th>\n",
       "      <th>description</th>\n",
       "      <th>finalPrice</th>\n",
       "      <th>itemPrice</th>\n",
       "      <th>needsFetchReview</th>\n",
       "      <th>partnerItemId</th>\n",
       "      <th>preventTargetGapPoints</th>\n",
       "      <th>quantityPurchased</th>\n",
       "      <th>userFlaggedBarcode</th>\n",
       "      <th>userFlaggedNewItem</th>\n",
       "      <th>...</th>\n",
       "      <th>itemNumber</th>\n",
       "      <th>originalMetaBriteQuantityPurchased</th>\n",
       "      <th>pointsEarned</th>\n",
       "      <th>targetPrice</th>\n",
       "      <th>competitiveProduct</th>\n",
       "      <th>originalFinalPrice</th>\n",
       "      <th>originalMetaBriteItemPrice</th>\n",
       "      <th>deleted</th>\n",
       "      <th>priceAfterCoupon</th>\n",
       "      <th>metabriteCampaignId</th>\n",
       "    </tr>\n",
       "  </thead>\n",
       "  <tbody>\n",
       "    <tr>\n",
       "      <td>0</td>\n",
       "      <td>4011</td>\n",
       "      <td>ITEM NOT FOUND</td>\n",
       "      <td>26.00</td>\n",
       "      <td>26.00</td>\n",
       "      <td>False</td>\n",
       "      <td>1</td>\n",
       "      <td>True</td>\n",
       "      <td>5.0</td>\n",
       "      <td>4011</td>\n",
       "      <td>True</td>\n",
       "      <td>...</td>\n",
       "      <td>NaN</td>\n",
       "      <td>NaN</td>\n",
       "      <td>NaN</td>\n",
       "      <td>NaN</td>\n",
       "      <td>NaN</td>\n",
       "      <td>NaN</td>\n",
       "      <td>NaN</td>\n",
       "      <td>NaN</td>\n",
       "      <td>NaN</td>\n",
       "      <td>NaN</td>\n",
       "    </tr>\n",
       "    <tr>\n",
       "      <td>1</td>\n",
       "      <td>4011</td>\n",
       "      <td>ITEM NOT FOUND</td>\n",
       "      <td>1</td>\n",
       "      <td>1</td>\n",
       "      <td>NaN</td>\n",
       "      <td>1</td>\n",
       "      <td>NaN</td>\n",
       "      <td>1.0</td>\n",
       "      <td>NaN</td>\n",
       "      <td>NaN</td>\n",
       "      <td>...</td>\n",
       "      <td>NaN</td>\n",
       "      <td>NaN</td>\n",
       "      <td>NaN</td>\n",
       "      <td>NaN</td>\n",
       "      <td>NaN</td>\n",
       "      <td>NaN</td>\n",
       "      <td>NaN</td>\n",
       "      <td>NaN</td>\n",
       "      <td>NaN</td>\n",
       "      <td>NaN</td>\n",
       "    </tr>\n",
       "    <tr>\n",
       "      <td>2</td>\n",
       "      <td>028400642255</td>\n",
       "      <td>DORITOS TORTILLA CHIP SPICY SWEET CHILI REDUCE...</td>\n",
       "      <td>10.00</td>\n",
       "      <td>10.00</td>\n",
       "      <td>True</td>\n",
       "      <td>2</td>\n",
       "      <td>True</td>\n",
       "      <td>1.0</td>\n",
       "      <td>028400642255</td>\n",
       "      <td>True</td>\n",
       "      <td>...</td>\n",
       "      <td>NaN</td>\n",
       "      <td>NaN</td>\n",
       "      <td>NaN</td>\n",
       "      <td>NaN</td>\n",
       "      <td>NaN</td>\n",
       "      <td>NaN</td>\n",
       "      <td>NaN</td>\n",
       "      <td>NaN</td>\n",
       "      <td>NaN</td>\n",
       "      <td>NaN</td>\n",
       "    </tr>\n",
       "    <tr>\n",
       "      <td>3</td>\n",
       "      <td>NaN</td>\n",
       "      <td>NaN</td>\n",
       "      <td>NaN</td>\n",
       "      <td>NaN</td>\n",
       "      <td>False</td>\n",
       "      <td>1</td>\n",
       "      <td>True</td>\n",
       "      <td>NaN</td>\n",
       "      <td>4011</td>\n",
       "      <td>True</td>\n",
       "      <td>...</td>\n",
       "      <td>NaN</td>\n",
       "      <td>NaN</td>\n",
       "      <td>NaN</td>\n",
       "      <td>NaN</td>\n",
       "      <td>NaN</td>\n",
       "      <td>NaN</td>\n",
       "      <td>NaN</td>\n",
       "      <td>NaN</td>\n",
       "      <td>NaN</td>\n",
       "      <td>NaN</td>\n",
       "    </tr>\n",
       "    <tr>\n",
       "      <td>4</td>\n",
       "      <td>4011</td>\n",
       "      <td>ITEM NOT FOUND</td>\n",
       "      <td>28.00</td>\n",
       "      <td>28.00</td>\n",
       "      <td>False</td>\n",
       "      <td>1</td>\n",
       "      <td>True</td>\n",
       "      <td>4.0</td>\n",
       "      <td>4011</td>\n",
       "      <td>True</td>\n",
       "      <td>...</td>\n",
       "      <td>NaN</td>\n",
       "      <td>NaN</td>\n",
       "      <td>NaN</td>\n",
       "      <td>NaN</td>\n",
       "      <td>NaN</td>\n",
       "      <td>NaN</td>\n",
       "      <td>NaN</td>\n",
       "      <td>NaN</td>\n",
       "      <td>NaN</td>\n",
       "      <td>NaN</td>\n",
       "    </tr>\n",
       "  </tbody>\n",
       "</table>\n",
       "<p>5 rows × 35 columns</p>\n",
       "</div>"
      ],
      "text/plain": [
       "        barcode                                        description finalPrice  \\\n",
       "0          4011                                     ITEM NOT FOUND      26.00   \n",
       "1          4011                                     ITEM NOT FOUND          1   \n",
       "2  028400642255  DORITOS TORTILLA CHIP SPICY SWEET CHILI REDUCE...      10.00   \n",
       "3           NaN                                                NaN        NaN   \n",
       "4          4011                                     ITEM NOT FOUND      28.00   \n",
       "\n",
       "  itemPrice needsFetchReview partnerItemId preventTargetGapPoints  \\\n",
       "0     26.00            False             1                   True   \n",
       "1         1              NaN             1                    NaN   \n",
       "2     10.00             True             2                   True   \n",
       "3       NaN            False             1                   True   \n",
       "4     28.00            False             1                   True   \n",
       "\n",
       "   quantityPurchased userFlaggedBarcode userFlaggedNewItem  ... itemNumber  \\\n",
       "0                5.0               4011               True  ...        NaN   \n",
       "1                1.0                NaN                NaN  ...        NaN   \n",
       "2                1.0       028400642255               True  ...        NaN   \n",
       "3                NaN               4011               True  ...        NaN   \n",
       "4                4.0               4011               True  ...        NaN   \n",
       "\n",
       "   originalMetaBriteQuantityPurchased pointsEarned targetPrice  \\\n",
       "0                                 NaN          NaN         NaN   \n",
       "1                                 NaN          NaN         NaN   \n",
       "2                                 NaN          NaN         NaN   \n",
       "3                                 NaN          NaN         NaN   \n",
       "4                                 NaN          NaN         NaN   \n",
       "\n",
       "  competitiveProduct originalFinalPrice originalMetaBriteItemPrice deleted  \\\n",
       "0                NaN                NaN                        NaN     NaN   \n",
       "1                NaN                NaN                        NaN     NaN   \n",
       "2                NaN                NaN                        NaN     NaN   \n",
       "3                NaN                NaN                        NaN     NaN   \n",
       "4                NaN                NaN                        NaN     NaN   \n",
       "\n",
       "  priceAfterCoupon metabriteCampaignId  \n",
       "0              NaN                 NaN  \n",
       "1              NaN                 NaN  \n",
       "2              NaN                 NaN  \n",
       "3              NaN                 NaN  \n",
       "4              NaN                 NaN  \n",
       "\n",
       "[5 rows x 35 columns]"
      ]
     },
     "execution_count": 22,
     "metadata": {},
     "output_type": "execute_result"
    }
   ],
   "source": [
    "item_on_receipt.head()"
   ]
  },
  {
   "cell_type": "markdown",
   "metadata": {},
   "source": [
    "Now that the table exists, we should make sure that the primary keys are unique. This is already a problem, as nearly half of the values in the barcode column are null. We can try to make an itemID column that borrows barcodes from userFlaggedBarcode or originalMetaBriteBarcode if necessary."
   ]
  },
  {
   "cell_type": "code",
   "execution_count": 23,
   "metadata": {},
   "outputs": [
    {
     "name": "stdout",
     "output_type": "stream",
     "text": [
      "6941\n"
     ]
    },
    {
     "data": {
      "text/plain": [
       "barcode                               3090\n",
       "description                           6560\n",
       "finalPrice                            6767\n",
       "itemPrice                             6767\n",
       "needsFetchReview                       813\n",
       "partnerItemId                         6941\n",
       "preventTargetGapPoints                 358\n",
       "quantityPurchased                     6767\n",
       "userFlaggedBarcode                     337\n",
       "userFlaggedNewItem                     323\n",
       "userFlaggedPrice                       299\n",
       "userFlaggedQuantity                    299\n",
       "receiptID                             6941\n",
       "needsFetchReviewReason                 219\n",
       "pointsNotAwardedReason                 340\n",
       "pointsPayerId                         1267\n",
       "rewardsGroup                          1731\n",
       "rewardsProductPartnerId               2269\n",
       "userFlaggedDescription                 205\n",
       "originalMetaBriteBarcode                71\n",
       "originalMetaBriteDescription            10\n",
       "brandCode                             2600\n",
       "competitorRewardsGroup                 275\n",
       "discountedItemPrice                   5769\n",
       "originalReceiptItemText               5760\n",
       "itemNumber                             153\n",
       "originalMetaBriteQuantityPurchased      15\n",
       "pointsEarned                           927\n",
       "targetPrice                            378\n",
       "competitiveProduct                     645\n",
       "originalFinalPrice                       9\n",
       "originalMetaBriteItemPrice               9\n",
       "deleted                                  9\n",
       "priceAfterCoupon                       956\n",
       "metabriteCampaignId                    863\n",
       "dtype: int64"
      ]
     },
     "execution_count": 23,
     "metadata": {},
     "output_type": "execute_result"
    }
   ],
   "source": [
    "print(len(item_on_receipt))\n",
    "\n",
    "item_on_receipt.count()"
   ]
  },
  {
   "cell_type": "code",
   "execution_count": 24,
   "metadata": {},
   "outputs": [],
   "source": [
    "# Adding two boolean columns to indicate whether the alternate barcode was used for the itemID column\n",
    "item_on_receipt['userFlaggedBarcodeBool'] = pd.isna(item_on_receipt['barcode']) & ~pd.isna(item_on_receipt['userFlaggedBarcode'])\n",
    "item_on_receipt['originalMetaBriteBarcodeBool'] = pd.isna(item_on_receipt['barcode']) & pd.isna(item_on_receipt['userFlaggedBarcode']) & ~pd.isna(item_on_receipt['originalMetaBriteBarcode'])"
   ]
  },
  {
   "cell_type": "code",
   "execution_count": 25,
   "metadata": {},
   "outputs": [],
   "source": [
    "itemids = []\n",
    "for index,row in item_on_receipt.iterrows():\n",
    "    if type(row['barcode']) == str:\n",
    "        itemids.append(row['barcode'])\n",
    "    elif row['userFlaggedBarcodeBool']:\n",
    "        itemids.append(row['userFlaggedBarcode'])\n",
    "    elif row['originalMetaBriteBarcodeBool']:\n",
    "        itemids.append(row['originalMetaBriteBarcode'])\n",
    "    else:\n",
    "        itemids.append(None)"
   ]
  },
  {
   "cell_type": "code",
   "execution_count": 26,
   "metadata": {},
   "outputs": [],
   "source": [
    "item_on_receipt['itemID'] = itemids"
   ]
  },
  {
   "cell_type": "code",
   "execution_count": 27,
   "metadata": {},
   "outputs": [
    {
     "name": "stdout",
     "output_type": "stream",
     "text": [
      "6941\n"
     ]
    },
    {
     "data": {
      "text/plain": [
       "barcode                               3090\n",
       "description                           6560\n",
       "finalPrice                            6767\n",
       "itemPrice                             6767\n",
       "needsFetchReview                       813\n",
       "partnerItemId                         6941\n",
       "preventTargetGapPoints                 358\n",
       "quantityPurchased                     6767\n",
       "userFlaggedBarcode                     337\n",
       "userFlaggedNewItem                     323\n",
       "userFlaggedPrice                       299\n",
       "userFlaggedQuantity                    299\n",
       "receiptID                             6941\n",
       "needsFetchReviewReason                 219\n",
       "pointsNotAwardedReason                 340\n",
       "pointsPayerId                         1267\n",
       "rewardsGroup                          1731\n",
       "rewardsProductPartnerId               2269\n",
       "userFlaggedDescription                 205\n",
       "originalMetaBriteBarcode                71\n",
       "originalMetaBriteDescription            10\n",
       "brandCode                             2600\n",
       "competitorRewardsGroup                 275\n",
       "discountedItemPrice                   5769\n",
       "originalReceiptItemText               5760\n",
       "itemNumber                             153\n",
       "originalMetaBriteQuantityPurchased      15\n",
       "pointsEarned                           927\n",
       "targetPrice                            378\n",
       "competitiveProduct                     645\n",
       "originalFinalPrice                       9\n",
       "originalMetaBriteItemPrice               9\n",
       "deleted                                  9\n",
       "priceAfterCoupon                       956\n",
       "metabriteCampaignId                    863\n",
       "userFlaggedBarcodeBool                6941\n",
       "originalMetaBriteBarcodeBool          6941\n",
       "itemID                                3240\n",
       "dtype: int64"
      ]
     },
     "execution_count": 27,
     "metadata": {},
     "output_type": "execute_result"
    }
   ],
   "source": [
    "print(len(item_on_receipt))\n",
    "\n",
    "item_on_receipt.count()"
   ]
  },
  {
   "cell_type": "markdown",
   "metadata": {},
   "source": [
    "Still only 3,240 values have a valid itemID. Let's drop the null values and move the primary keys to the front to continue testing them."
   ]
  },
  {
   "cell_type": "code",
   "execution_count": 28,
   "metadata": {},
   "outputs": [],
   "source": [
    "item_on_receipt = item_on_receipt[~pd.isna(item_on_receipt['itemID'])]"
   ]
  },
  {
   "cell_type": "code",
   "execution_count": 29,
   "metadata": {},
   "outputs": [],
   "source": [
    "item_on_receipt.insert(0, 'receiptID', item_on_receipt.pop('receiptID'))\n",
    "item_on_receipt.insert(0, 'itemID', item_on_receipt.pop('itemID'))"
   ]
  },
  {
   "cell_type": "code",
   "execution_count": 30,
   "metadata": {},
   "outputs": [
    {
     "name": "stdout",
     "output_type": "stream",
     "text": [
      "3240\n"
     ]
    },
    {
     "data": {
      "text/plain": [
       "1938"
      ]
     },
     "execution_count": 30,
     "metadata": {},
     "output_type": "execute_result"
    }
   ],
   "source": [
    "print(len(item_on_receipt))\n",
    "\n",
    "len(set([(row['itemID'],row['receiptID']) for index,row in item_on_receipt.iterrows()]))"
   ]
  },
  {
   "cell_type": "markdown",
   "metadata": {},
   "source": [
    "I found that there are many repeats and investigated further. Multiple examples of the same item are sometimes counted together and other times counted seperately. To resolve this, we can use partnerItemId as a third aspect of the primary key. After making that change, all primary keys are unique."
   ]
  },
  {
   "cell_type": "code",
   "execution_count": 31,
   "metadata": {},
   "outputs": [
    {
     "data": {
      "text/plain": [
       "(('021000658831', '600f2fc80a720f0535000030'), 21)"
      ]
     },
     "execution_count": 31,
     "metadata": {},
     "output_type": "execute_result"
    }
   ],
   "source": [
    "s = [(row['itemID'],row['receiptID']) for index,row in item_on_receipt.iterrows()]\n",
    "Counter(s).most_common()[0]"
   ]
  },
  {
   "cell_type": "code",
   "execution_count": 32,
   "metadata": {
    "scrolled": false
   },
   "outputs": [
    {
     "data": {
      "text/html": [
       "<div>\n",
       "<style scoped>\n",
       "    .dataframe tbody tr th:only-of-type {\n",
       "        vertical-align: middle;\n",
       "    }\n",
       "\n",
       "    .dataframe tbody tr th {\n",
       "        vertical-align: top;\n",
       "    }\n",
       "\n",
       "    .dataframe thead th {\n",
       "        text-align: right;\n",
       "    }\n",
       "</style>\n",
       "<table border=\"1\" class=\"dataframe\">\n",
       "  <thead>\n",
       "    <tr style=\"text-align: right;\">\n",
       "      <th></th>\n",
       "      <th>itemID</th>\n",
       "      <th>receiptID</th>\n",
       "      <th>barcode</th>\n",
       "      <th>description</th>\n",
       "      <th>finalPrice</th>\n",
       "      <th>itemPrice</th>\n",
       "      <th>needsFetchReview</th>\n",
       "      <th>partnerItemId</th>\n",
       "      <th>preventTargetGapPoints</th>\n",
       "      <th>quantityPurchased</th>\n",
       "      <th>...</th>\n",
       "      <th>pointsEarned</th>\n",
       "      <th>targetPrice</th>\n",
       "      <th>competitiveProduct</th>\n",
       "      <th>originalFinalPrice</th>\n",
       "      <th>originalMetaBriteItemPrice</th>\n",
       "      <th>deleted</th>\n",
       "      <th>priceAfterCoupon</th>\n",
       "      <th>metabriteCampaignId</th>\n",
       "      <th>userFlaggedBarcodeBool</th>\n",
       "      <th>originalMetaBriteBarcodeBool</th>\n",
       "    </tr>\n",
       "  </thead>\n",
       "  <tbody>\n",
       "    <tr>\n",
       "      <td>6584</td>\n",
       "      <td>021000658831</td>\n",
       "      <td>600f2fc80a720f0535000030</td>\n",
       "      <td>021000658831</td>\n",
       "      <td>Kraft Macaroni &amp; Cheese Dinner - The Cheesiest...</td>\n",
       "      <td>1.00</td>\n",
       "      <td>1.00</td>\n",
       "      <td>False</td>\n",
       "      <td>1882</td>\n",
       "      <td>NaN</td>\n",
       "      <td>1.0</td>\n",
       "      <td>...</td>\n",
       "      <td>NaN</td>\n",
       "      <td>NaN</td>\n",
       "      <td>True</td>\n",
       "      <td>NaN</td>\n",
       "      <td>NaN</td>\n",
       "      <td>NaN</td>\n",
       "      <td>NaN</td>\n",
       "      <td>KRAFT MACARONI &amp; CHEESE DINNER - BOX</td>\n",
       "      <td>False</td>\n",
       "      <td>False</td>\n",
       "    </tr>\n",
       "    <tr>\n",
       "      <td>6585</td>\n",
       "      <td>021000658831</td>\n",
       "      <td>600f2fc80a720f0535000030</td>\n",
       "      <td>021000658831</td>\n",
       "      <td>Kraft Macaroni &amp; Cheese Dinner - The Cheesiest...</td>\n",
       "      <td>1.00</td>\n",
       "      <td>1.00</td>\n",
       "      <td>False</td>\n",
       "      <td>1884</td>\n",
       "      <td>NaN</td>\n",
       "      <td>1.0</td>\n",
       "      <td>...</td>\n",
       "      <td>NaN</td>\n",
       "      <td>NaN</td>\n",
       "      <td>True</td>\n",
       "      <td>NaN</td>\n",
       "      <td>NaN</td>\n",
       "      <td>NaN</td>\n",
       "      <td>NaN</td>\n",
       "      <td>KRAFT MACARONI &amp; CHEESE DINNER - BOX</td>\n",
       "      <td>False</td>\n",
       "      <td>False</td>\n",
       "    </tr>\n",
       "    <tr>\n",
       "      <td>6586</td>\n",
       "      <td>021000658831</td>\n",
       "      <td>600f2fc80a720f0535000030</td>\n",
       "      <td>021000658831</td>\n",
       "      <td>Kraft Macaroni &amp; Cheese Dinner - The Cheesiest...</td>\n",
       "      <td>1.00</td>\n",
       "      <td>1.00</td>\n",
       "      <td>False</td>\n",
       "      <td>1888</td>\n",
       "      <td>NaN</td>\n",
       "      <td>1.0</td>\n",
       "      <td>...</td>\n",
       "      <td>NaN</td>\n",
       "      <td>NaN</td>\n",
       "      <td>True</td>\n",
       "      <td>NaN</td>\n",
       "      <td>NaN</td>\n",
       "      <td>NaN</td>\n",
       "      <td>NaN</td>\n",
       "      <td>KRAFT MACARONI &amp; CHEESE DINNER - BOX</td>\n",
       "      <td>False</td>\n",
       "      <td>False</td>\n",
       "    </tr>\n",
       "    <tr>\n",
       "      <td>6590</td>\n",
       "      <td>021000658831</td>\n",
       "      <td>600f2fc80a720f0535000030</td>\n",
       "      <td>021000658831</td>\n",
       "      <td>Kraft Macaroni &amp; Cheese Dinner - The Cheesiest...</td>\n",
       "      <td>1.00</td>\n",
       "      <td>1.00</td>\n",
       "      <td>False</td>\n",
       "      <td>1904</td>\n",
       "      <td>NaN</td>\n",
       "      <td>1.0</td>\n",
       "      <td>...</td>\n",
       "      <td>NaN</td>\n",
       "      <td>NaN</td>\n",
       "      <td>True</td>\n",
       "      <td>NaN</td>\n",
       "      <td>NaN</td>\n",
       "      <td>NaN</td>\n",
       "      <td>NaN</td>\n",
       "      <td>KRAFT MACARONI &amp; CHEESE DINNER - BOX</td>\n",
       "      <td>False</td>\n",
       "      <td>False</td>\n",
       "    </tr>\n",
       "    <tr>\n",
       "      <td>6591</td>\n",
       "      <td>021000658831</td>\n",
       "      <td>600f2fc80a720f0535000030</td>\n",
       "      <td>021000658831</td>\n",
       "      <td>Kraft Macaroni &amp; Cheese Dinner - The Cheesiest...</td>\n",
       "      <td>1.00</td>\n",
       "      <td>1.00</td>\n",
       "      <td>False</td>\n",
       "      <td>1907</td>\n",
       "      <td>NaN</td>\n",
       "      <td>1.0</td>\n",
       "      <td>...</td>\n",
       "      <td>NaN</td>\n",
       "      <td>NaN</td>\n",
       "      <td>True</td>\n",
       "      <td>NaN</td>\n",
       "      <td>NaN</td>\n",
       "      <td>NaN</td>\n",
       "      <td>NaN</td>\n",
       "      <td>KRAFT MACARONI &amp; CHEESE DINNER - BOX</td>\n",
       "      <td>False</td>\n",
       "      <td>False</td>\n",
       "    </tr>\n",
       "  </tbody>\n",
       "</table>\n",
       "<p>5 rows × 38 columns</p>\n",
       "</div>"
      ],
      "text/plain": [
       "            itemID                 receiptID       barcode  \\\n",
       "6584  021000658831  600f2fc80a720f0535000030  021000658831   \n",
       "6585  021000658831  600f2fc80a720f0535000030  021000658831   \n",
       "6586  021000658831  600f2fc80a720f0535000030  021000658831   \n",
       "6590  021000658831  600f2fc80a720f0535000030  021000658831   \n",
       "6591  021000658831  600f2fc80a720f0535000030  021000658831   \n",
       "\n",
       "                                            description finalPrice itemPrice  \\\n",
       "6584  Kraft Macaroni & Cheese Dinner - The Cheesiest...       1.00      1.00   \n",
       "6585  Kraft Macaroni & Cheese Dinner - The Cheesiest...       1.00      1.00   \n",
       "6586  Kraft Macaroni & Cheese Dinner - The Cheesiest...       1.00      1.00   \n",
       "6590  Kraft Macaroni & Cheese Dinner - The Cheesiest...       1.00      1.00   \n",
       "6591  Kraft Macaroni & Cheese Dinner - The Cheesiest...       1.00      1.00   \n",
       "\n",
       "     needsFetchReview partnerItemId preventTargetGapPoints  quantityPurchased  \\\n",
       "6584            False          1882                    NaN                1.0   \n",
       "6585            False          1884                    NaN                1.0   \n",
       "6586            False          1888                    NaN                1.0   \n",
       "6590            False          1904                    NaN                1.0   \n",
       "6591            False          1907                    NaN                1.0   \n",
       "\n",
       "      ... pointsEarned targetPrice competitiveProduct  originalFinalPrice  \\\n",
       "6584  ...          NaN         NaN               True                 NaN   \n",
       "6585  ...          NaN         NaN               True                 NaN   \n",
       "6586  ...          NaN         NaN               True                 NaN   \n",
       "6590  ...          NaN         NaN               True                 NaN   \n",
       "6591  ...          NaN         NaN               True                 NaN   \n",
       "\n",
       "     originalMetaBriteItemPrice deleted priceAfterCoupon  \\\n",
       "6584                        NaN     NaN              NaN   \n",
       "6585                        NaN     NaN              NaN   \n",
       "6586                        NaN     NaN              NaN   \n",
       "6590                        NaN     NaN              NaN   \n",
       "6591                        NaN     NaN              NaN   \n",
       "\n",
       "                       metabriteCampaignId userFlaggedBarcodeBool  \\\n",
       "6584  KRAFT MACARONI & CHEESE DINNER - BOX                  False   \n",
       "6585  KRAFT MACARONI & CHEESE DINNER - BOX                  False   \n",
       "6586  KRAFT MACARONI & CHEESE DINNER - BOX                  False   \n",
       "6590  KRAFT MACARONI & CHEESE DINNER - BOX                  False   \n",
       "6591  KRAFT MACARONI & CHEESE DINNER - BOX                  False   \n",
       "\n",
       "     originalMetaBriteBarcodeBool  \n",
       "6584                        False  \n",
       "6585                        False  \n",
       "6586                        False  \n",
       "6590                        False  \n",
       "6591                        False  \n",
       "\n",
       "[5 rows x 38 columns]"
      ]
     },
     "execution_count": 32,
     "metadata": {},
     "output_type": "execute_result"
    }
   ],
   "source": [
    "item_on_receipt[(item_on_receipt['receiptID'] == '600f2fc80a720f0535000030') & (item_on_receipt['itemID'] == '021000658831')].head()"
   ]
  },
  {
   "cell_type": "code",
   "execution_count": 33,
   "metadata": {},
   "outputs": [
    {
     "name": "stdout",
     "output_type": "stream",
     "text": [
      "3240\n"
     ]
    },
    {
     "data": {
      "text/plain": [
       "3240"
      ]
     },
     "execution_count": 33,
     "metadata": {},
     "output_type": "execute_result"
    }
   ],
   "source": [
    "print(len(item_on_receipt))\n",
    "\n",
    "len(set([(row['itemID'],row['receiptID'],row['partnerItemId']) for index,row in item_on_receipt.iterrows()]))"
   ]
  },
  {
   "cell_type": "code",
   "execution_count": 34,
   "metadata": {},
   "outputs": [],
   "source": [
    "item_on_receipt.insert(2, 'partnerItemId', item_on_receipt.pop('partnerItemId'))"
   ]
  },
  {
   "cell_type": "markdown",
   "metadata": {},
   "source": [
    "I wondered if the description field is dependent only on barcode/itemID (and would therefore require a new Item-Description table), but it turned out not to be."
   ]
  },
  {
   "cell_type": "code",
   "execution_count": 35,
   "metadata": {},
   "outputs": [
    {
     "data": {
      "text/plain": [
       "568"
      ]
     },
     "execution_count": 35,
     "metadata": {},
     "output_type": "execute_result"
    }
   ],
   "source": [
    "len(set(item_on_receipt['itemID']))"
   ]
  },
  {
   "cell_type": "code",
   "execution_count": 36,
   "metadata": {},
   "outputs": [
    {
     "data": {
      "text/plain": [
       "556"
      ]
     },
     "execution_count": 36,
     "metadata": {},
     "output_type": "execute_result"
    }
   ],
   "source": [
    "len(set(item_on_receipt['description']))"
   ]
  },
  {
   "cell_type": "markdown",
   "metadata": {},
   "source": [
    "Now that itemID exists as an aggregate of data from the various barcodes (and we have columns to indicate when a barcode was pulled from a given source), we can drop those columns."
   ]
  },
  {
   "cell_type": "code",
   "execution_count": 37,
   "metadata": {},
   "outputs": [],
   "source": [
    "item_on_receipt = item_on_receipt.drop(['barcode', 'userFlaggedBarcode', 'originalMetaBriteBarcode'], axis=1)"
   ]
  },
  {
   "cell_type": "code",
   "execution_count": 38,
   "metadata": {
    "scrolled": true
   },
   "outputs": [
    {
     "data": {
      "text/html": [
       "<div>\n",
       "<style scoped>\n",
       "    .dataframe tbody tr th:only-of-type {\n",
       "        vertical-align: middle;\n",
       "    }\n",
       "\n",
       "    .dataframe tbody tr th {\n",
       "        vertical-align: top;\n",
       "    }\n",
       "\n",
       "    .dataframe thead th {\n",
       "        text-align: right;\n",
       "    }\n",
       "</style>\n",
       "<table border=\"1\" class=\"dataframe\">\n",
       "  <thead>\n",
       "    <tr style=\"text-align: right;\">\n",
       "      <th></th>\n",
       "      <th>itemID</th>\n",
       "      <th>receiptID</th>\n",
       "      <th>partnerItemId</th>\n",
       "      <th>description</th>\n",
       "      <th>finalPrice</th>\n",
       "      <th>itemPrice</th>\n",
       "      <th>needsFetchReview</th>\n",
       "      <th>preventTargetGapPoints</th>\n",
       "      <th>quantityPurchased</th>\n",
       "      <th>userFlaggedNewItem</th>\n",
       "      <th>...</th>\n",
       "      <th>pointsEarned</th>\n",
       "      <th>targetPrice</th>\n",
       "      <th>competitiveProduct</th>\n",
       "      <th>originalFinalPrice</th>\n",
       "      <th>originalMetaBriteItemPrice</th>\n",
       "      <th>deleted</th>\n",
       "      <th>priceAfterCoupon</th>\n",
       "      <th>metabriteCampaignId</th>\n",
       "      <th>userFlaggedBarcodeBool</th>\n",
       "      <th>originalMetaBriteBarcodeBool</th>\n",
       "    </tr>\n",
       "  </thead>\n",
       "  <tbody>\n",
       "    <tr>\n",
       "      <td>0</td>\n",
       "      <td>4011</td>\n",
       "      <td>5ff1e1eb0a720f0523000575</td>\n",
       "      <td>1</td>\n",
       "      <td>ITEM NOT FOUND</td>\n",
       "      <td>26.00</td>\n",
       "      <td>26.00</td>\n",
       "      <td>False</td>\n",
       "      <td>True</td>\n",
       "      <td>5.0</td>\n",
       "      <td>True</td>\n",
       "      <td>...</td>\n",
       "      <td>NaN</td>\n",
       "      <td>NaN</td>\n",
       "      <td>NaN</td>\n",
       "      <td>NaN</td>\n",
       "      <td>NaN</td>\n",
       "      <td>NaN</td>\n",
       "      <td>NaN</td>\n",
       "      <td>NaN</td>\n",
       "      <td>False</td>\n",
       "      <td>False</td>\n",
       "    </tr>\n",
       "    <tr>\n",
       "      <td>1</td>\n",
       "      <td>4011</td>\n",
       "      <td>5ff1e1bb0a720f052300056b</td>\n",
       "      <td>1</td>\n",
       "      <td>ITEM NOT FOUND</td>\n",
       "      <td>1</td>\n",
       "      <td>1</td>\n",
       "      <td>NaN</td>\n",
       "      <td>NaN</td>\n",
       "      <td>1.0</td>\n",
       "      <td>NaN</td>\n",
       "      <td>...</td>\n",
       "      <td>NaN</td>\n",
       "      <td>NaN</td>\n",
       "      <td>NaN</td>\n",
       "      <td>NaN</td>\n",
       "      <td>NaN</td>\n",
       "      <td>NaN</td>\n",
       "      <td>NaN</td>\n",
       "      <td>NaN</td>\n",
       "      <td>False</td>\n",
       "      <td>False</td>\n",
       "    </tr>\n",
       "    <tr>\n",
       "      <td>2</td>\n",
       "      <td>028400642255</td>\n",
       "      <td>5ff1e1bb0a720f052300056b</td>\n",
       "      <td>2</td>\n",
       "      <td>DORITOS TORTILLA CHIP SPICY SWEET CHILI REDUCE...</td>\n",
       "      <td>10.00</td>\n",
       "      <td>10.00</td>\n",
       "      <td>True</td>\n",
       "      <td>True</td>\n",
       "      <td>1.0</td>\n",
       "      <td>True</td>\n",
       "      <td>...</td>\n",
       "      <td>NaN</td>\n",
       "      <td>NaN</td>\n",
       "      <td>NaN</td>\n",
       "      <td>NaN</td>\n",
       "      <td>NaN</td>\n",
       "      <td>NaN</td>\n",
       "      <td>NaN</td>\n",
       "      <td>NaN</td>\n",
       "      <td>False</td>\n",
       "      <td>False</td>\n",
       "    </tr>\n",
       "    <tr>\n",
       "      <td>3</td>\n",
       "      <td>4011</td>\n",
       "      <td>5ff1e1f10a720f052300057a</td>\n",
       "      <td>1</td>\n",
       "      <td>NaN</td>\n",
       "      <td>NaN</td>\n",
       "      <td>NaN</td>\n",
       "      <td>False</td>\n",
       "      <td>True</td>\n",
       "      <td>NaN</td>\n",
       "      <td>True</td>\n",
       "      <td>...</td>\n",
       "      <td>NaN</td>\n",
       "      <td>NaN</td>\n",
       "      <td>NaN</td>\n",
       "      <td>NaN</td>\n",
       "      <td>NaN</td>\n",
       "      <td>NaN</td>\n",
       "      <td>NaN</td>\n",
       "      <td>NaN</td>\n",
       "      <td>True</td>\n",
       "      <td>False</td>\n",
       "    </tr>\n",
       "    <tr>\n",
       "      <td>4</td>\n",
       "      <td>4011</td>\n",
       "      <td>5ff1e1ee0a7214ada100056f</td>\n",
       "      <td>1</td>\n",
       "      <td>ITEM NOT FOUND</td>\n",
       "      <td>28.00</td>\n",
       "      <td>28.00</td>\n",
       "      <td>False</td>\n",
       "      <td>True</td>\n",
       "      <td>4.0</td>\n",
       "      <td>True</td>\n",
       "      <td>...</td>\n",
       "      <td>NaN</td>\n",
       "      <td>NaN</td>\n",
       "      <td>NaN</td>\n",
       "      <td>NaN</td>\n",
       "      <td>NaN</td>\n",
       "      <td>NaN</td>\n",
       "      <td>NaN</td>\n",
       "      <td>NaN</td>\n",
       "      <td>False</td>\n",
       "      <td>False</td>\n",
       "    </tr>\n",
       "  </tbody>\n",
       "</table>\n",
       "<p>5 rows × 35 columns</p>\n",
       "</div>"
      ],
      "text/plain": [
       "         itemID                 receiptID partnerItemId  \\\n",
       "0          4011  5ff1e1eb0a720f0523000575             1   \n",
       "1          4011  5ff1e1bb0a720f052300056b             1   \n",
       "2  028400642255  5ff1e1bb0a720f052300056b             2   \n",
       "3          4011  5ff1e1f10a720f052300057a             1   \n",
       "4          4011  5ff1e1ee0a7214ada100056f             1   \n",
       "\n",
       "                                         description finalPrice itemPrice  \\\n",
       "0                                     ITEM NOT FOUND      26.00     26.00   \n",
       "1                                     ITEM NOT FOUND          1         1   \n",
       "2  DORITOS TORTILLA CHIP SPICY SWEET CHILI REDUCE...      10.00     10.00   \n",
       "3                                                NaN        NaN       NaN   \n",
       "4                                     ITEM NOT FOUND      28.00     28.00   \n",
       "\n",
       "  needsFetchReview preventTargetGapPoints  quantityPurchased  \\\n",
       "0            False                   True                5.0   \n",
       "1              NaN                    NaN                1.0   \n",
       "2             True                   True                1.0   \n",
       "3            False                   True                NaN   \n",
       "4            False                   True                4.0   \n",
       "\n",
       "  userFlaggedNewItem  ... pointsEarned  targetPrice competitiveProduct  \\\n",
       "0               True  ...          NaN          NaN                NaN   \n",
       "1                NaN  ...          NaN          NaN                NaN   \n",
       "2               True  ...          NaN          NaN                NaN   \n",
       "3               True  ...          NaN          NaN                NaN   \n",
       "4               True  ...          NaN          NaN                NaN   \n",
       "\n",
       "  originalFinalPrice originalMetaBriteItemPrice deleted priceAfterCoupon  \\\n",
       "0                NaN                        NaN     NaN              NaN   \n",
       "1                NaN                        NaN     NaN              NaN   \n",
       "2                NaN                        NaN     NaN              NaN   \n",
       "3                NaN                        NaN     NaN              NaN   \n",
       "4                NaN                        NaN     NaN              NaN   \n",
       "\n",
       "  metabriteCampaignId userFlaggedBarcodeBool originalMetaBriteBarcodeBool  \n",
       "0                 NaN                  False                        False  \n",
       "1                 NaN                  False                        False  \n",
       "2                 NaN                  False                        False  \n",
       "3                 NaN                   True                        False  \n",
       "4                 NaN                  False                        False  \n",
       "\n",
       "[5 rows x 35 columns]"
      ]
     },
     "execution_count": 38,
     "metadata": {},
     "output_type": "execute_result"
    }
   ],
   "source": [
    "item_on_receipt.head()"
   ]
  },
  {
   "cell_type": "markdown",
   "metadata": {},
   "source": [
    "# User Table"
   ]
  },
  {
   "cell_type": "code",
   "execution_count": 39,
   "metadata": {},
   "outputs": [
    {
     "data": {
      "text/html": [
       "<div>\n",
       "<style scoped>\n",
       "    .dataframe tbody tr th:only-of-type {\n",
       "        vertical-align: middle;\n",
       "    }\n",
       "\n",
       "    .dataframe tbody tr th {\n",
       "        vertical-align: top;\n",
       "    }\n",
       "\n",
       "    .dataframe thead th {\n",
       "        text-align: right;\n",
       "    }\n",
       "</style>\n",
       "<table border=\"1\" class=\"dataframe\">\n",
       "  <thead>\n",
       "    <tr style=\"text-align: right;\">\n",
       "      <th></th>\n",
       "      <th>_id</th>\n",
       "      <th>active</th>\n",
       "      <th>createdDate</th>\n",
       "      <th>lastLogin</th>\n",
       "      <th>role</th>\n",
       "      <th>signUpSource</th>\n",
       "      <th>state</th>\n",
       "    </tr>\n",
       "  </thead>\n",
       "  <tbody>\n",
       "    <tr>\n",
       "      <td>0</td>\n",
       "      <td>{'$oid': '5ff1e194b6a9d73a3a9f1052'}</td>\n",
       "      <td>True</td>\n",
       "      <td>{'$date': 1609687444800}</td>\n",
       "      <td>{'$date': 1609687537858}</td>\n",
       "      <td>consumer</td>\n",
       "      <td>Email</td>\n",
       "      <td>WI</td>\n",
       "    </tr>\n",
       "    <tr>\n",
       "      <td>1</td>\n",
       "      <td>{'$oid': '5ff1e194b6a9d73a3a9f1052'}</td>\n",
       "      <td>True</td>\n",
       "      <td>{'$date': 1609687444800}</td>\n",
       "      <td>{'$date': 1609687537858}</td>\n",
       "      <td>consumer</td>\n",
       "      <td>Email</td>\n",
       "      <td>WI</td>\n",
       "    </tr>\n",
       "    <tr>\n",
       "      <td>2</td>\n",
       "      <td>{'$oid': '5ff1e194b6a9d73a3a9f1052'}</td>\n",
       "      <td>True</td>\n",
       "      <td>{'$date': 1609687444800}</td>\n",
       "      <td>{'$date': 1609687537858}</td>\n",
       "      <td>consumer</td>\n",
       "      <td>Email</td>\n",
       "      <td>WI</td>\n",
       "    </tr>\n",
       "    <tr>\n",
       "      <td>3</td>\n",
       "      <td>{'$oid': '5ff1e1eacfcf6c399c274ae6'}</td>\n",
       "      <td>True</td>\n",
       "      <td>{'$date': 1609687530554}</td>\n",
       "      <td>{'$date': 1609687530597}</td>\n",
       "      <td>consumer</td>\n",
       "      <td>Email</td>\n",
       "      <td>WI</td>\n",
       "    </tr>\n",
       "    <tr>\n",
       "      <td>4</td>\n",
       "      <td>{'$oid': '5ff1e194b6a9d73a3a9f1052'}</td>\n",
       "      <td>True</td>\n",
       "      <td>{'$date': 1609687444800}</td>\n",
       "      <td>{'$date': 1609687537858}</td>\n",
       "      <td>consumer</td>\n",
       "      <td>Email</td>\n",
       "      <td>WI</td>\n",
       "    </tr>\n",
       "  </tbody>\n",
       "</table>\n",
       "</div>"
      ],
      "text/plain": [
       "                                    _id  active               createdDate  \\\n",
       "0  {'$oid': '5ff1e194b6a9d73a3a9f1052'}    True  {'$date': 1609687444800}   \n",
       "1  {'$oid': '5ff1e194b6a9d73a3a9f1052'}    True  {'$date': 1609687444800}   \n",
       "2  {'$oid': '5ff1e194b6a9d73a3a9f1052'}    True  {'$date': 1609687444800}   \n",
       "3  {'$oid': '5ff1e1eacfcf6c399c274ae6'}    True  {'$date': 1609687530554}   \n",
       "4  {'$oid': '5ff1e194b6a9d73a3a9f1052'}    True  {'$date': 1609687444800}   \n",
       "\n",
       "                  lastLogin      role signUpSource state  \n",
       "0  {'$date': 1609687537858}  consumer        Email    WI  \n",
       "1  {'$date': 1609687537858}  consumer        Email    WI  \n",
       "2  {'$date': 1609687537858}  consumer        Email    WI  \n",
       "3  {'$date': 1609687530597}  consumer        Email    WI  \n",
       "4  {'$date': 1609687537858}  consumer        Email    WI  "
      ]
     },
     "execution_count": 39,
     "metadata": {},
     "output_type": "execute_result"
    }
   ],
   "source": [
    "users = pd.read_json('users.json', lines=True)\n",
    "users.head()"
   ]
  },
  {
   "cell_type": "markdown",
   "metadata": {},
   "source": [
    "We will again start by checking the primary key."
   ]
  },
  {
   "cell_type": "code",
   "execution_count": 40,
   "metadata": {},
   "outputs": [
    {
     "name": "stdout",
     "output_type": "stream",
     "text": [
      "495\n",
      "212\n"
     ]
    }
   ],
   "source": [
    "print(len(users))\n",
    "\n",
    "list_of_usids = [row['$oid'] for row in users['_id']]\n",
    "print(len(set(list_of_usids)))"
   ]
  },
  {
   "cell_type": "code",
   "execution_count": 41,
   "metadata": {},
   "outputs": [
    {
     "data": {
      "text/plain": [
       "('5fc961c3b8cfca11a077dd33', 20)"
      ]
     },
     "execution_count": 41,
     "metadata": {},
     "output_type": "execute_result"
    }
   ],
   "source": [
    "Counter(list_of_usids).most_common()[0]"
   ]
  },
  {
   "cell_type": "code",
   "execution_count": 42,
   "metadata": {
    "scrolled": true
   },
   "outputs": [
    {
     "data": {
      "text/html": [
       "<div>\n",
       "<style scoped>\n",
       "    .dataframe tbody tr th:only-of-type {\n",
       "        vertical-align: middle;\n",
       "    }\n",
       "\n",
       "    .dataframe tbody tr th {\n",
       "        vertical-align: top;\n",
       "    }\n",
       "\n",
       "    .dataframe thead th {\n",
       "        text-align: right;\n",
       "    }\n",
       "</style>\n",
       "<table border=\"1\" class=\"dataframe\">\n",
       "  <thead>\n",
       "    <tr style=\"text-align: right;\">\n",
       "      <th></th>\n",
       "      <th>_id</th>\n",
       "      <th>active</th>\n",
       "      <th>createdDate</th>\n",
       "      <th>lastLogin</th>\n",
       "      <th>role</th>\n",
       "      <th>signUpSource</th>\n",
       "      <th>state</th>\n",
       "    </tr>\n",
       "  </thead>\n",
       "  <tbody>\n",
       "    <tr>\n",
       "      <td>435</td>\n",
       "      <td>{'$oid': '5fc961c3b8cfca11a077dd33'}</td>\n",
       "      <td>True</td>\n",
       "      <td>{'$date': 1607033283936}</td>\n",
       "      <td>{'$date': 1614379156799}</td>\n",
       "      <td>fetch-staff</td>\n",
       "      <td>Email</td>\n",
       "      <td>NH</td>\n",
       "    </tr>\n",
       "    <tr>\n",
       "      <td>436</td>\n",
       "      <td>{'$oid': '5fc961c3b8cfca11a077dd33'}</td>\n",
       "      <td>True</td>\n",
       "      <td>{'$date': 1607033283936}</td>\n",
       "      <td>{'$date': 1614379156799}</td>\n",
       "      <td>fetch-staff</td>\n",
       "      <td>Email</td>\n",
       "      <td>NH</td>\n",
       "    </tr>\n",
       "    <tr>\n",
       "      <td>437</td>\n",
       "      <td>{'$oid': '5fc961c3b8cfca11a077dd33'}</td>\n",
       "      <td>True</td>\n",
       "      <td>{'$date': 1607033283936}</td>\n",
       "      <td>{'$date': 1614379156799}</td>\n",
       "      <td>fetch-staff</td>\n",
       "      <td>Email</td>\n",
       "      <td>NH</td>\n",
       "    </tr>\n",
       "    <tr>\n",
       "      <td>438</td>\n",
       "      <td>{'$oid': '5fc961c3b8cfca11a077dd33'}</td>\n",
       "      <td>True</td>\n",
       "      <td>{'$date': 1607033283936}</td>\n",
       "      <td>{'$date': 1614379156799}</td>\n",
       "      <td>fetch-staff</td>\n",
       "      <td>Email</td>\n",
       "      <td>NH</td>\n",
       "    </tr>\n",
       "    <tr>\n",
       "      <td>439</td>\n",
       "      <td>{'$oid': '5fc961c3b8cfca11a077dd33'}</td>\n",
       "      <td>True</td>\n",
       "      <td>{'$date': 1607033283936}</td>\n",
       "      <td>{'$date': 1614379156799}</td>\n",
       "      <td>fetch-staff</td>\n",
       "      <td>Email</td>\n",
       "      <td>NH</td>\n",
       "    </tr>\n",
       "  </tbody>\n",
       "</table>\n",
       "</div>"
      ],
      "text/plain": [
       "                                      _id  active               createdDate  \\\n",
       "435  {'$oid': '5fc961c3b8cfca11a077dd33'}    True  {'$date': 1607033283936}   \n",
       "436  {'$oid': '5fc961c3b8cfca11a077dd33'}    True  {'$date': 1607033283936}   \n",
       "437  {'$oid': '5fc961c3b8cfca11a077dd33'}    True  {'$date': 1607033283936}   \n",
       "438  {'$oid': '5fc961c3b8cfca11a077dd33'}    True  {'$date': 1607033283936}   \n",
       "439  {'$oid': '5fc961c3b8cfca11a077dd33'}    True  {'$date': 1607033283936}   \n",
       "\n",
       "                    lastLogin         role signUpSource state  \n",
       "435  {'$date': 1614379156799}  fetch-staff        Email    NH  \n",
       "436  {'$date': 1614379156799}  fetch-staff        Email    NH  \n",
       "437  {'$date': 1614379156799}  fetch-staff        Email    NH  \n",
       "438  {'$date': 1614379156799}  fetch-staff        Email    NH  \n",
       "439  {'$date': 1614379156799}  fetch-staff        Email    NH  "
      ]
     },
     "execution_count": 42,
     "metadata": {},
     "output_type": "execute_result"
    }
   ],
   "source": [
    "users[users['_id']=={'$oid': '5fc961c3b8cfca11a077dd33'}][:5]"
   ]
  },
  {
   "cell_type": "markdown",
   "metadata": {},
   "source": [
    "The primary keys are not unique, but this might only apply to those with the fetch-staff role."
   ]
  },
  {
   "cell_type": "code",
   "execution_count": 43,
   "metadata": {},
   "outputs": [],
   "source": [
    "nonstaff = users[users['role']!='fetch-staff']"
   ]
  },
  {
   "cell_type": "code",
   "execution_count": 44,
   "metadata": {},
   "outputs": [
    {
     "name": "stdout",
     "output_type": "stream",
     "text": [
      "413\n",
      "204\n"
     ]
    }
   ],
   "source": [
    "print(len(nonstaff))\n",
    "\n",
    "list_of_usids = [row['$oid'] for row in nonstaff['_id']]\n",
    "print(len(set(list_of_usids)))"
   ]
  },
  {
   "cell_type": "code",
   "execution_count": 45,
   "metadata": {},
   "outputs": [
    {
     "data": {
      "text/plain": [
       "('5ff5d15aeb7c7d12096d91a2', 18)"
      ]
     },
     "execution_count": 45,
     "metadata": {},
     "output_type": "execute_result"
    }
   ],
   "source": [
    "Counter(list_of_usids).most_common()[0]"
   ]
  },
  {
   "cell_type": "code",
   "execution_count": 46,
   "metadata": {},
   "outputs": [
    {
     "data": {
      "text/html": [
       "<div>\n",
       "<style scoped>\n",
       "    .dataframe tbody tr th:only-of-type {\n",
       "        vertical-align: middle;\n",
       "    }\n",
       "\n",
       "    .dataframe tbody tr th {\n",
       "        vertical-align: top;\n",
       "    }\n",
       "\n",
       "    .dataframe thead th {\n",
       "        text-align: right;\n",
       "    }\n",
       "</style>\n",
       "<table border=\"1\" class=\"dataframe\">\n",
       "  <thead>\n",
       "    <tr style=\"text-align: right;\">\n",
       "      <th></th>\n",
       "      <th>_id</th>\n",
       "      <th>active</th>\n",
       "      <th>createdDate</th>\n",
       "      <th>lastLogin</th>\n",
       "      <th>role</th>\n",
       "      <th>signUpSource</th>\n",
       "      <th>state</th>\n",
       "    </tr>\n",
       "  </thead>\n",
       "  <tbody>\n",
       "    <tr>\n",
       "      <td>60</td>\n",
       "      <td>{'$oid': '5ff5d15aeb7c7d12096d91a2'}</td>\n",
       "      <td>True</td>\n",
       "      <td>{'$date': 1609945434680}</td>\n",
       "      <td>{'$date': 1609945690009}</td>\n",
       "      <td>consumer</td>\n",
       "      <td>Email</td>\n",
       "      <td>WI</td>\n",
       "    </tr>\n",
       "    <tr>\n",
       "      <td>61</td>\n",
       "      <td>{'$oid': '5ff5d15aeb7c7d12096d91a2'}</td>\n",
       "      <td>True</td>\n",
       "      <td>{'$date': 1609945434680}</td>\n",
       "      <td>{'$date': 1609945690009}</td>\n",
       "      <td>consumer</td>\n",
       "      <td>Email</td>\n",
       "      <td>WI</td>\n",
       "    </tr>\n",
       "    <tr>\n",
       "      <td>62</td>\n",
       "      <td>{'$oid': '5ff5d15aeb7c7d12096d91a2'}</td>\n",
       "      <td>True</td>\n",
       "      <td>{'$date': 1609945434680}</td>\n",
       "      <td>{'$date': 1609945690009}</td>\n",
       "      <td>consumer</td>\n",
       "      <td>Email</td>\n",
       "      <td>WI</td>\n",
       "    </tr>\n",
       "    <tr>\n",
       "      <td>63</td>\n",
       "      <td>{'$oid': '5ff5d15aeb7c7d12096d91a2'}</td>\n",
       "      <td>True</td>\n",
       "      <td>{'$date': 1609945434680}</td>\n",
       "      <td>{'$date': 1609945690009}</td>\n",
       "      <td>consumer</td>\n",
       "      <td>Email</td>\n",
       "      <td>WI</td>\n",
       "    </tr>\n",
       "    <tr>\n",
       "      <td>64</td>\n",
       "      <td>{'$oid': '5ff5d15aeb7c7d12096d91a2'}</td>\n",
       "      <td>True</td>\n",
       "      <td>{'$date': 1609945434680}</td>\n",
       "      <td>{'$date': 1609945690009}</td>\n",
       "      <td>consumer</td>\n",
       "      <td>Email</td>\n",
       "      <td>WI</td>\n",
       "    </tr>\n",
       "  </tbody>\n",
       "</table>\n",
       "</div>"
      ],
      "text/plain": [
       "                                     _id  active               createdDate  \\\n",
       "60  {'$oid': '5ff5d15aeb7c7d12096d91a2'}    True  {'$date': 1609945434680}   \n",
       "61  {'$oid': '5ff5d15aeb7c7d12096d91a2'}    True  {'$date': 1609945434680}   \n",
       "62  {'$oid': '5ff5d15aeb7c7d12096d91a2'}    True  {'$date': 1609945434680}   \n",
       "63  {'$oid': '5ff5d15aeb7c7d12096d91a2'}    True  {'$date': 1609945434680}   \n",
       "64  {'$oid': '5ff5d15aeb7c7d12096d91a2'}    True  {'$date': 1609945434680}   \n",
       "\n",
       "                   lastLogin      role signUpSource state  \n",
       "60  {'$date': 1609945690009}  consumer        Email    WI  \n",
       "61  {'$date': 1609945690009}  consumer        Email    WI  \n",
       "62  {'$date': 1609945690009}  consumer        Email    WI  \n",
       "63  {'$date': 1609945690009}  consumer        Email    WI  \n",
       "64  {'$date': 1609945690009}  consumer        Email    WI  "
      ]
     },
     "execution_count": 46,
     "metadata": {},
     "output_type": "execute_result"
    }
   ],
   "source": [
    "users[users['_id']=={'$oid': '5ff5d15aeb7c7d12096d91a2'}][:5]"
   ]
  },
  {
   "cell_type": "markdown",
   "metadata": {},
   "source": [
    "It turns out consumers have repeat appearances too. The cause of this necessitates further investigation, but for now, it may be best to remove duplicate users."
   ]
  },
  {
   "cell_type": "code",
   "execution_count": 47,
   "metadata": {},
   "outputs": [],
   "source": [
    "users['id_flat'] = [row['$oid'] for row in users['_id']]"
   ]
  },
  {
   "cell_type": "code",
   "execution_count": 48,
   "metadata": {},
   "outputs": [],
   "source": [
    "users = users.drop_duplicates(['id_flat', 'state', 'role'])"
   ]
  },
  {
   "cell_type": "code",
   "execution_count": 49,
   "metadata": {},
   "outputs": [
    {
     "name": "stdout",
     "output_type": "stream",
     "text": [
      "212\n",
      "212\n"
     ]
    }
   ],
   "source": [
    "print(len(users))\n",
    "\n",
    "list_of_usids = [row['$oid'] for row in users['_id']]\n",
    "print(len(set(list_of_usids)))"
   ]
  },
  {
   "cell_type": "markdown",
   "metadata": {},
   "source": [
    "For the users table, we can also assess data quality by comparing the date fields. These fields are logically consistent."
   ]
  },
  {
   "cell_type": "code",
   "execution_count": 50,
   "metadata": {},
   "outputs": [],
   "source": [
    "for index,row in users[~pd.isna(users['lastLogin'])].iterrows():\n",
    "    c_date = pd.to_datetime(row['createdDate']['$date'], unit='ms')\n",
    "    f_date = pd.to_datetime(row['lastLogin']['$date'], unit='ms')\n",
    "    if c_date > f_date:\n",
    "        print('Logical error at index: ' + str(index))"
   ]
  },
  {
   "cell_type": "markdown",
   "metadata": {},
   "source": [
    "Lastly, we'll do some formatting of the IDs and dates."
   ]
  },
  {
   "cell_type": "code",
   "execution_count": 51,
   "metadata": {},
   "outputs": [],
   "source": [
    "temp_field = []\n",
    "for row in users['_id']:\n",
    "    temp_value = row['$oid']\n",
    "    temp_field.append(temp_value)\n",
    "users['userID'] = temp_field\n",
    "users.insert(0, 'userID', users.pop('userID'))\n",
    "users = users.drop(['id_flat', '_id'], axis=1)"
   ]
  },
  {
   "cell_type": "code",
   "execution_count": 52,
   "metadata": {},
   "outputs": [],
   "source": [
    "for i in ['createdDate', 'lastLogin']:\n",
    "    temp_field = []\n",
    "    for row in users[i]:\n",
    "        try:\n",
    "            temp_value = pd.to_datetime(row['$date'], unit='ms')\n",
    "            temp_field.append(temp_value)\n",
    "        except:\n",
    "            temp_field.append(None)\n",
    "    users[i] = temp_field"
   ]
  },
  {
   "cell_type": "code",
   "execution_count": 53,
   "metadata": {},
   "outputs": [
    {
     "data": {
      "text/html": [
       "<div>\n",
       "<style scoped>\n",
       "    .dataframe tbody tr th:only-of-type {\n",
       "        vertical-align: middle;\n",
       "    }\n",
       "\n",
       "    .dataframe tbody tr th {\n",
       "        vertical-align: top;\n",
       "    }\n",
       "\n",
       "    .dataframe thead th {\n",
       "        text-align: right;\n",
       "    }\n",
       "</style>\n",
       "<table border=\"1\" class=\"dataframe\">\n",
       "  <thead>\n",
       "    <tr style=\"text-align: right;\">\n",
       "      <th></th>\n",
       "      <th>userID</th>\n",
       "      <th>active</th>\n",
       "      <th>createdDate</th>\n",
       "      <th>lastLogin</th>\n",
       "      <th>role</th>\n",
       "      <th>signUpSource</th>\n",
       "      <th>state</th>\n",
       "    </tr>\n",
       "  </thead>\n",
       "  <tbody>\n",
       "    <tr>\n",
       "      <td>0</td>\n",
       "      <td>5ff1e194b6a9d73a3a9f1052</td>\n",
       "      <td>True</td>\n",
       "      <td>2021-01-03 15:24:04.800</td>\n",
       "      <td>2021-01-03 15:25:37.858</td>\n",
       "      <td>consumer</td>\n",
       "      <td>Email</td>\n",
       "      <td>WI</td>\n",
       "    </tr>\n",
       "    <tr>\n",
       "      <td>3</td>\n",
       "      <td>5ff1e1eacfcf6c399c274ae6</td>\n",
       "      <td>True</td>\n",
       "      <td>2021-01-03 15:25:30.554</td>\n",
       "      <td>2021-01-03 15:25:30.597</td>\n",
       "      <td>consumer</td>\n",
       "      <td>Email</td>\n",
       "      <td>WI</td>\n",
       "    </tr>\n",
       "    <tr>\n",
       "      <td>6</td>\n",
       "      <td>5ff1e1e8cfcf6c399c274ad9</td>\n",
       "      <td>True</td>\n",
       "      <td>2021-01-03 15:25:28.354</td>\n",
       "      <td>2021-01-03 15:25:28.392</td>\n",
       "      <td>consumer</td>\n",
       "      <td>Email</td>\n",
       "      <td>WI</td>\n",
       "    </tr>\n",
       "    <tr>\n",
       "      <td>7</td>\n",
       "      <td>5ff1e1b7cfcf6c399c274a5a</td>\n",
       "      <td>True</td>\n",
       "      <td>2021-01-03 15:24:39.626</td>\n",
       "      <td>2021-01-03 15:24:39.665</td>\n",
       "      <td>consumer</td>\n",
       "      <td>Email</td>\n",
       "      <td>WI</td>\n",
       "    </tr>\n",
       "    <tr>\n",
       "      <td>9</td>\n",
       "      <td>5ff1e1f1cfcf6c399c274b0b</td>\n",
       "      <td>True</td>\n",
       "      <td>2021-01-03 15:25:37.564</td>\n",
       "      <td>2021-01-03 15:25:37.599</td>\n",
       "      <td>consumer</td>\n",
       "      <td>Email</td>\n",
       "      <td>WI</td>\n",
       "    </tr>\n",
       "  </tbody>\n",
       "</table>\n",
       "</div>"
      ],
      "text/plain": [
       "                     userID  active             createdDate  \\\n",
       "0  5ff1e194b6a9d73a3a9f1052    True 2021-01-03 15:24:04.800   \n",
       "3  5ff1e1eacfcf6c399c274ae6    True 2021-01-03 15:25:30.554   \n",
       "6  5ff1e1e8cfcf6c399c274ad9    True 2021-01-03 15:25:28.354   \n",
       "7  5ff1e1b7cfcf6c399c274a5a    True 2021-01-03 15:24:39.626   \n",
       "9  5ff1e1f1cfcf6c399c274b0b    True 2021-01-03 15:25:37.564   \n",
       "\n",
       "                lastLogin      role signUpSource state  \n",
       "0 2021-01-03 15:25:37.858  consumer        Email    WI  \n",
       "3 2021-01-03 15:25:30.597  consumer        Email    WI  \n",
       "6 2021-01-03 15:25:28.392  consumer        Email    WI  \n",
       "7 2021-01-03 15:24:39.665  consumer        Email    WI  \n",
       "9 2021-01-03 15:25:37.599  consumer        Email    WI  "
      ]
     },
     "execution_count": 53,
     "metadata": {},
     "output_type": "execute_result"
    }
   ],
   "source": [
    "users.head()"
   ]
  },
  {
   "cell_type": "markdown",
   "metadata": {},
   "source": [
    "# Brand Table"
   ]
  },
  {
   "cell_type": "code",
   "execution_count": 54,
   "metadata": {},
   "outputs": [
    {
     "data": {
      "text/html": [
       "<div>\n",
       "<style scoped>\n",
       "    .dataframe tbody tr th:only-of-type {\n",
       "        vertical-align: middle;\n",
       "    }\n",
       "\n",
       "    .dataframe tbody tr th {\n",
       "        vertical-align: top;\n",
       "    }\n",
       "\n",
       "    .dataframe thead th {\n",
       "        text-align: right;\n",
       "    }\n",
       "</style>\n",
       "<table border=\"1\" class=\"dataframe\">\n",
       "  <thead>\n",
       "    <tr style=\"text-align: right;\">\n",
       "      <th></th>\n",
       "      <th>_id</th>\n",
       "      <th>barcode</th>\n",
       "      <th>category</th>\n",
       "      <th>categoryCode</th>\n",
       "      <th>cpg</th>\n",
       "      <th>name</th>\n",
       "      <th>topBrand</th>\n",
       "      <th>brandCode</th>\n",
       "    </tr>\n",
       "  </thead>\n",
       "  <tbody>\n",
       "    <tr>\n",
       "      <td>0</td>\n",
       "      <td>{'$oid': '601ac115be37ce2ead437551'}</td>\n",
       "      <td>511111019862</td>\n",
       "      <td>Baking</td>\n",
       "      <td>BAKING</td>\n",
       "      <td>{'$id': {'$oid': '601ac114be37ce2ead437550'}, ...</td>\n",
       "      <td>test brand @1612366101024</td>\n",
       "      <td>0.0</td>\n",
       "      <td>NaN</td>\n",
       "    </tr>\n",
       "    <tr>\n",
       "      <td>1</td>\n",
       "      <td>{'$oid': '601c5460be37ce2ead43755f'}</td>\n",
       "      <td>511111519928</td>\n",
       "      <td>Beverages</td>\n",
       "      <td>BEVERAGES</td>\n",
       "      <td>{'$id': {'$oid': '5332f5fbe4b03c9a25efd0ba'}, ...</td>\n",
       "      <td>Starbucks</td>\n",
       "      <td>0.0</td>\n",
       "      <td>STARBUCKS</td>\n",
       "    </tr>\n",
       "    <tr>\n",
       "      <td>2</td>\n",
       "      <td>{'$oid': '601ac142be37ce2ead43755d'}</td>\n",
       "      <td>511111819905</td>\n",
       "      <td>Baking</td>\n",
       "      <td>BAKING</td>\n",
       "      <td>{'$id': {'$oid': '601ac142be37ce2ead437559'}, ...</td>\n",
       "      <td>test brand @1612366146176</td>\n",
       "      <td>0.0</td>\n",
       "      <td>TEST BRANDCODE @1612366146176</td>\n",
       "    </tr>\n",
       "    <tr>\n",
       "      <td>3</td>\n",
       "      <td>{'$oid': '601ac142be37ce2ead43755a'}</td>\n",
       "      <td>511111519874</td>\n",
       "      <td>Baking</td>\n",
       "      <td>BAKING</td>\n",
       "      <td>{'$id': {'$oid': '601ac142be37ce2ead437559'}, ...</td>\n",
       "      <td>test brand @1612366146051</td>\n",
       "      <td>0.0</td>\n",
       "      <td>TEST BRANDCODE @1612366146051</td>\n",
       "    </tr>\n",
       "    <tr>\n",
       "      <td>4</td>\n",
       "      <td>{'$oid': '601ac142be37ce2ead43755e'}</td>\n",
       "      <td>511111319917</td>\n",
       "      <td>Candy &amp; Sweets</td>\n",
       "      <td>CANDY_AND_SWEETS</td>\n",
       "      <td>{'$id': {'$oid': '5332fa12e4b03c9a25efd1e7'}, ...</td>\n",
       "      <td>test brand @1612366146827</td>\n",
       "      <td>0.0</td>\n",
       "      <td>TEST BRANDCODE @1612366146827</td>\n",
       "    </tr>\n",
       "  </tbody>\n",
       "</table>\n",
       "</div>"
      ],
      "text/plain": [
       "                                    _id       barcode        category  \\\n",
       "0  {'$oid': '601ac115be37ce2ead437551'}  511111019862          Baking   \n",
       "1  {'$oid': '601c5460be37ce2ead43755f'}  511111519928       Beverages   \n",
       "2  {'$oid': '601ac142be37ce2ead43755d'}  511111819905          Baking   \n",
       "3  {'$oid': '601ac142be37ce2ead43755a'}  511111519874          Baking   \n",
       "4  {'$oid': '601ac142be37ce2ead43755e'}  511111319917  Candy & Sweets   \n",
       "\n",
       "       categoryCode                                                cpg  \\\n",
       "0            BAKING  {'$id': {'$oid': '601ac114be37ce2ead437550'}, ...   \n",
       "1         BEVERAGES  {'$id': {'$oid': '5332f5fbe4b03c9a25efd0ba'}, ...   \n",
       "2            BAKING  {'$id': {'$oid': '601ac142be37ce2ead437559'}, ...   \n",
       "3            BAKING  {'$id': {'$oid': '601ac142be37ce2ead437559'}, ...   \n",
       "4  CANDY_AND_SWEETS  {'$id': {'$oid': '5332fa12e4b03c9a25efd1e7'}, ...   \n",
       "\n",
       "                        name  topBrand                      brandCode  \n",
       "0  test brand @1612366101024       0.0                            NaN  \n",
       "1                  Starbucks       0.0                      STARBUCKS  \n",
       "2  test brand @1612366146176       0.0  TEST BRANDCODE @1612366146176  \n",
       "3  test brand @1612366146051       0.0  TEST BRANDCODE @1612366146051  \n",
       "4  test brand @1612366146827       0.0  TEST BRANDCODE @1612366146827  "
      ]
     },
     "execution_count": 54,
     "metadata": {},
     "output_type": "execute_result"
    }
   ],
   "source": [
    "brands = pd.read_json('brands.json', lines=True)\n",
    "brands.head()"
   ]
  },
  {
   "cell_type": "markdown",
   "metadata": {},
   "source": [
    "All primary keys are unique."
   ]
  },
  {
   "cell_type": "code",
   "execution_count": 55,
   "metadata": {},
   "outputs": [
    {
     "name": "stdout",
     "output_type": "stream",
     "text": [
      "1167\n",
      "1167\n"
     ]
    }
   ],
   "source": [
    "print(len(brands))\n",
    "\n",
    "list_of_brandsids = [row['$oid'] for row in brands['_id']]\n",
    "print(len(set(list_of_brandsids)))"
   ]
  },
  {
   "cell_type": "code",
   "execution_count": 56,
   "metadata": {},
   "outputs": [
    {
     "data": {
      "text/plain": [
       "_id             1167\n",
       "barcode         1167\n",
       "category        1012\n",
       "categoryCode     517\n",
       "cpg             1167\n",
       "name            1167\n",
       "topBrand         555\n",
       "brandCode        933\n",
       "dtype: int64"
      ]
     },
     "execution_count": 56,
     "metadata": {},
     "output_type": "execute_result"
    }
   ],
   "source": [
    "brands.count()"
   ]
  },
  {
   "cell_type": "markdown",
   "metadata": {},
   "source": [
    "Several fields are missing values, notably categoryCode and brandCode. topBrand could be correct, as some values should be zero (if they are not a top brand).\n",
    "\n",
    "In addition, the category and categoryCode fields look like they might have a transitive dependence to the primary key. A new table for Category Codes and their respective Category Names should probably be created to address that."
   ]
  },
  {
   "cell_type": "code",
   "execution_count": 57,
   "metadata": {},
   "outputs": [
    {
     "data": {
      "text/plain": [
       "categoryCode\n",
       "BABY                                                    [Baby]\n",
       "BAKING                                                [Baking]\n",
       "BEER_WINE_SPIRITS                          [Beer Wine Spirits]\n",
       "BEVERAGES                                          [Beverages]\n",
       "BREAD_AND_BAKERY                              [Bread & Bakery]\n",
       "CANDY_AND_SWEETS                              [Candy & Sweets]\n",
       "CLEANING_AND_HOME_IMPROVEMENT    [Cleaning & Home Improvement]\n",
       "DAIRY_AND_REFRIGERATED                  [Dairy & Refrigerated]\n",
       "FROZEN                                                [Frozen]\n",
       "GROCERY                                              [Grocery]\n",
       "HEALTHY_AND_WELLNESS                       [Health & Wellness]\n",
       "MAGAZINES                                          [Magazines]\n",
       "OUTDOOR                                              [Outdoor]\n",
       "PERSONAL_CARE                                  [Personal Care]\n",
       "Name: category, dtype: object"
      ]
     },
     "execution_count": 57,
     "metadata": {},
     "output_type": "execute_result"
    }
   ],
   "source": [
    "brands.groupby('categoryCode')['category'].unique()"
   ]
  },
  {
   "cell_type": "code",
   "execution_count": 58,
   "metadata": {},
   "outputs": [],
   "source": [
    "# Saving a copy of brands table for creation of category table\n",
    "brands_copy = brands.copy()"
   ]
  },
  {
   "cell_type": "markdown",
   "metadata": {},
   "source": [
    "Some barcodes fall under multiple brands, which may be a data issue. I would expect each barcode to be unique to a brand. I would ask Product to clarify the cause of this."
   ]
  },
  {
   "cell_type": "code",
   "execution_count": 59,
   "metadata": {},
   "outputs": [
    {
     "data": {
      "text/html": [
       "<div>\n",
       "<style scoped>\n",
       "    .dataframe tbody tr th:only-of-type {\n",
       "        vertical-align: middle;\n",
       "    }\n",
       "\n",
       "    .dataframe tbody tr th {\n",
       "        vertical-align: top;\n",
       "    }\n",
       "\n",
       "    .dataframe thead th {\n",
       "        text-align: right;\n",
       "    }\n",
       "</style>\n",
       "<table border=\"1\" class=\"dataframe\">\n",
       "  <thead>\n",
       "    <tr style=\"text-align: right;\">\n",
       "      <th></th>\n",
       "      <th>_id</th>\n",
       "      <th>category</th>\n",
       "      <th>categoryCode</th>\n",
       "      <th>cpg</th>\n",
       "      <th>name</th>\n",
       "      <th>topBrand</th>\n",
       "      <th>brandCode</th>\n",
       "    </tr>\n",
       "    <tr>\n",
       "      <th>barcode</th>\n",
       "      <th></th>\n",
       "      <th></th>\n",
       "      <th></th>\n",
       "      <th></th>\n",
       "      <th></th>\n",
       "      <th></th>\n",
       "      <th></th>\n",
       "    </tr>\n",
       "  </thead>\n",
       "  <tbody>\n",
       "    <tr>\n",
       "      <td>511111504139</td>\n",
       "      <td>2</td>\n",
       "      <td>2</td>\n",
       "      <td>0</td>\n",
       "      <td>2</td>\n",
       "      <td>2</td>\n",
       "      <td>1</td>\n",
       "      <td>2</td>\n",
       "    </tr>\n",
       "    <tr>\n",
       "      <td>511111305125</td>\n",
       "      <td>2</td>\n",
       "      <td>2</td>\n",
       "      <td>0</td>\n",
       "      <td>2</td>\n",
       "      <td>2</td>\n",
       "      <td>0</td>\n",
       "      <td>2</td>\n",
       "    </tr>\n",
       "    <tr>\n",
       "      <td>511111704140</td>\n",
       "      <td>2</td>\n",
       "      <td>1</td>\n",
       "      <td>0</td>\n",
       "      <td>2</td>\n",
       "      <td>2</td>\n",
       "      <td>1</td>\n",
       "      <td>2</td>\n",
       "    </tr>\n",
       "    <tr>\n",
       "      <td>511111605058</td>\n",
       "      <td>2</td>\n",
       "      <td>2</td>\n",
       "      <td>0</td>\n",
       "      <td>2</td>\n",
       "      <td>2</td>\n",
       "      <td>1</td>\n",
       "      <td>2</td>\n",
       "    </tr>\n",
       "    <tr>\n",
       "      <td>511111004790</td>\n",
       "      <td>2</td>\n",
       "      <td>2</td>\n",
       "      <td>0</td>\n",
       "      <td>2</td>\n",
       "      <td>2</td>\n",
       "      <td>1</td>\n",
       "      <td>2</td>\n",
       "    </tr>\n",
       "    <tr>\n",
       "      <td>...</td>\n",
       "      <td>...</td>\n",
       "      <td>...</td>\n",
       "      <td>...</td>\n",
       "      <td>...</td>\n",
       "      <td>...</td>\n",
       "      <td>...</td>\n",
       "      <td>...</td>\n",
       "    </tr>\n",
       "    <tr>\n",
       "      <td>511111303893</td>\n",
       "      <td>1</td>\n",
       "      <td>1</td>\n",
       "      <td>0</td>\n",
       "      <td>1</td>\n",
       "      <td>1</td>\n",
       "      <td>1</td>\n",
       "      <td>1</td>\n",
       "    </tr>\n",
       "    <tr>\n",
       "      <td>511111303732</td>\n",
       "      <td>1</td>\n",
       "      <td>0</td>\n",
       "      <td>0</td>\n",
       "      <td>1</td>\n",
       "      <td>1</td>\n",
       "      <td>0</td>\n",
       "      <td>0</td>\n",
       "    </tr>\n",
       "    <tr>\n",
       "      <td>511111303664</td>\n",
       "      <td>1</td>\n",
       "      <td>0</td>\n",
       "      <td>0</td>\n",
       "      <td>1</td>\n",
       "      <td>1</td>\n",
       "      <td>0</td>\n",
       "      <td>0</td>\n",
       "    </tr>\n",
       "    <tr>\n",
       "      <td>511111303503</td>\n",
       "      <td>1</td>\n",
       "      <td>0</td>\n",
       "      <td>0</td>\n",
       "      <td>1</td>\n",
       "      <td>1</td>\n",
       "      <td>0</td>\n",
       "      <td>0</td>\n",
       "    </tr>\n",
       "    <tr>\n",
       "      <td>511111919803</td>\n",
       "      <td>1</td>\n",
       "      <td>1</td>\n",
       "      <td>1</td>\n",
       "      <td>1</td>\n",
       "      <td>1</td>\n",
       "      <td>1</td>\n",
       "      <td>1</td>\n",
       "    </tr>\n",
       "  </tbody>\n",
       "</table>\n",
       "<p>1160 rows × 7 columns</p>\n",
       "</div>"
      ],
      "text/plain": [
       "              _id  category  categoryCode  cpg  name  topBrand  brandCode\n",
       "barcode                                                                  \n",
       "511111504139    2         2             0    2     2         1          2\n",
       "511111305125    2         2             0    2     2         0          2\n",
       "511111704140    2         1             0    2     2         1          2\n",
       "511111605058    2         2             0    2     2         1          2\n",
       "511111004790    2         2             0    2     2         1          2\n",
       "...           ...       ...           ...  ...   ...       ...        ...\n",
       "511111303893    1         1             0    1     1         1          1\n",
       "511111303732    1         0             0    1     1         0          0\n",
       "511111303664    1         0             0    1     1         0          0\n",
       "511111303503    1         0             0    1     1         0          0\n",
       "511111919803    1         1             1    1     1         1          1\n",
       "\n",
       "[1160 rows x 7 columns]"
      ]
     },
     "execution_count": 59,
     "metadata": {},
     "output_type": "execute_result"
    }
   ],
   "source": [
    "brands.groupby('barcode').count().sort_values('_id', ascending=False)"
   ]
  },
  {
   "cell_type": "markdown",
   "metadata": {},
   "source": [
    "In the meantime, we can just drop categoryCode as it seems to be the less complete field between itself and category."
   ]
  },
  {
   "cell_type": "code",
   "execution_count": 60,
   "metadata": {},
   "outputs": [],
   "source": [
    "brands = brands.drop('categoryCode', axis=1)"
   ]
  },
  {
   "cell_type": "code",
   "execution_count": 61,
   "metadata": {},
   "outputs": [
    {
     "data": {
      "text/html": [
       "<div>\n",
       "<style scoped>\n",
       "    .dataframe tbody tr th:only-of-type {\n",
       "        vertical-align: middle;\n",
       "    }\n",
       "\n",
       "    .dataframe tbody tr th {\n",
       "        vertical-align: top;\n",
       "    }\n",
       "\n",
       "    .dataframe thead th {\n",
       "        text-align: right;\n",
       "    }\n",
       "</style>\n",
       "<table border=\"1\" class=\"dataframe\">\n",
       "  <thead>\n",
       "    <tr style=\"text-align: right;\">\n",
       "      <th></th>\n",
       "      <th>_id</th>\n",
       "      <th>barcode</th>\n",
       "      <th>category</th>\n",
       "      <th>cpg</th>\n",
       "      <th>name</th>\n",
       "      <th>topBrand</th>\n",
       "      <th>brandCode</th>\n",
       "    </tr>\n",
       "  </thead>\n",
       "  <tbody>\n",
       "    <tr>\n",
       "      <td>0</td>\n",
       "      <td>{'$oid': '601ac115be37ce2ead437551'}</td>\n",
       "      <td>511111019862</td>\n",
       "      <td>Baking</td>\n",
       "      <td>{'$id': {'$oid': '601ac114be37ce2ead437550'}, ...</td>\n",
       "      <td>test brand @1612366101024</td>\n",
       "      <td>0.0</td>\n",
       "      <td>NaN</td>\n",
       "    </tr>\n",
       "    <tr>\n",
       "      <td>1</td>\n",
       "      <td>{'$oid': '601c5460be37ce2ead43755f'}</td>\n",
       "      <td>511111519928</td>\n",
       "      <td>Beverages</td>\n",
       "      <td>{'$id': {'$oid': '5332f5fbe4b03c9a25efd0ba'}, ...</td>\n",
       "      <td>Starbucks</td>\n",
       "      <td>0.0</td>\n",
       "      <td>STARBUCKS</td>\n",
       "    </tr>\n",
       "    <tr>\n",
       "      <td>2</td>\n",
       "      <td>{'$oid': '601ac142be37ce2ead43755d'}</td>\n",
       "      <td>511111819905</td>\n",
       "      <td>Baking</td>\n",
       "      <td>{'$id': {'$oid': '601ac142be37ce2ead437559'}, ...</td>\n",
       "      <td>test brand @1612366146176</td>\n",
       "      <td>0.0</td>\n",
       "      <td>TEST BRANDCODE @1612366146176</td>\n",
       "    </tr>\n",
       "    <tr>\n",
       "      <td>3</td>\n",
       "      <td>{'$oid': '601ac142be37ce2ead43755a'}</td>\n",
       "      <td>511111519874</td>\n",
       "      <td>Baking</td>\n",
       "      <td>{'$id': {'$oid': '601ac142be37ce2ead437559'}, ...</td>\n",
       "      <td>test brand @1612366146051</td>\n",
       "      <td>0.0</td>\n",
       "      <td>TEST BRANDCODE @1612366146051</td>\n",
       "    </tr>\n",
       "    <tr>\n",
       "      <td>4</td>\n",
       "      <td>{'$oid': '601ac142be37ce2ead43755e'}</td>\n",
       "      <td>511111319917</td>\n",
       "      <td>Candy &amp; Sweets</td>\n",
       "      <td>{'$id': {'$oid': '5332fa12e4b03c9a25efd1e7'}, ...</td>\n",
       "      <td>test brand @1612366146827</td>\n",
       "      <td>0.0</td>\n",
       "      <td>TEST BRANDCODE @1612366146827</td>\n",
       "    </tr>\n",
       "  </tbody>\n",
       "</table>\n",
       "</div>"
      ],
      "text/plain": [
       "                                    _id       barcode        category  \\\n",
       "0  {'$oid': '601ac115be37ce2ead437551'}  511111019862          Baking   \n",
       "1  {'$oid': '601c5460be37ce2ead43755f'}  511111519928       Beverages   \n",
       "2  {'$oid': '601ac142be37ce2ead43755d'}  511111819905          Baking   \n",
       "3  {'$oid': '601ac142be37ce2ead43755a'}  511111519874          Baking   \n",
       "4  {'$oid': '601ac142be37ce2ead43755e'}  511111319917  Candy & Sweets   \n",
       "\n",
       "                                                 cpg  \\\n",
       "0  {'$id': {'$oid': '601ac114be37ce2ead437550'}, ...   \n",
       "1  {'$id': {'$oid': '5332f5fbe4b03c9a25efd0ba'}, ...   \n",
       "2  {'$id': {'$oid': '601ac142be37ce2ead437559'}, ...   \n",
       "3  {'$id': {'$oid': '601ac142be37ce2ead437559'}, ...   \n",
       "4  {'$id': {'$oid': '5332fa12e4b03c9a25efd1e7'}, ...   \n",
       "\n",
       "                        name  topBrand                      brandCode  \n",
       "0  test brand @1612366101024       0.0                            NaN  \n",
       "1                  Starbucks       0.0                      STARBUCKS  \n",
       "2  test brand @1612366146176       0.0  TEST BRANDCODE @1612366146176  \n",
       "3  test brand @1612366146051       0.0  TEST BRANDCODE @1612366146051  \n",
       "4  test brand @1612366146827       0.0  TEST BRANDCODE @1612366146827  "
      ]
     },
     "execution_count": 61,
     "metadata": {},
     "output_type": "execute_result"
    }
   ],
   "source": [
    "brands.head()"
   ]
  },
  {
   "cell_type": "markdown",
   "metadata": {},
   "source": [
    "Final formatting for SQL:"
   ]
  },
  {
   "cell_type": "code",
   "execution_count": 62,
   "metadata": {},
   "outputs": [],
   "source": [
    "temp_field = []\n",
    "for row in brands['_id']:\n",
    "    temp_value = row['$oid']\n",
    "    temp_field.append(temp_value)\n",
    "brands['brandID'] = temp_field\n",
    "brands.insert(0, 'brandID', brands.pop('brandID'))\n",
    "brands = brands.drop('_id', axis=1)"
   ]
  },
  {
   "cell_type": "code",
   "execution_count": 63,
   "metadata": {},
   "outputs": [],
   "source": [
    "temp_field = []\n",
    "temp_field2 = []\n",
    "for row in brands['cpg']:\n",
    "    try:\n",
    "        temp_value = row['$id']['$oid']\n",
    "        temp_field.append(temp_value)\n",
    "        temp_value2 = row['$ref']\n",
    "        temp_field2.append(temp_value2)\n",
    "    except:\n",
    "        temp_field.append(None)\n",
    "        temp_field2.append(None)\n",
    "brands['cpg_id'] = temp_field\n",
    "brands['cpg_ref'] = temp_field2\n",
    "brands = brands.drop('cpg', axis=1)"
   ]
  },
  {
   "cell_type": "code",
   "execution_count": 64,
   "metadata": {},
   "outputs": [],
   "source": [
    "brands = brands.rename({'barcode': 'itemID'}, axis=1)"
   ]
  },
  {
   "cell_type": "code",
   "execution_count": 65,
   "metadata": {},
   "outputs": [],
   "source": [
    "brands['itemID'] = brands['itemID'].apply(str)"
   ]
  },
  {
   "cell_type": "code",
   "execution_count": 66,
   "metadata": {},
   "outputs": [
    {
     "data": {
      "text/html": [
       "<div>\n",
       "<style scoped>\n",
       "    .dataframe tbody tr th:only-of-type {\n",
       "        vertical-align: middle;\n",
       "    }\n",
       "\n",
       "    .dataframe tbody tr th {\n",
       "        vertical-align: top;\n",
       "    }\n",
       "\n",
       "    .dataframe thead th {\n",
       "        text-align: right;\n",
       "    }\n",
       "</style>\n",
       "<table border=\"1\" class=\"dataframe\">\n",
       "  <thead>\n",
       "    <tr style=\"text-align: right;\">\n",
       "      <th></th>\n",
       "      <th>brandID</th>\n",
       "      <th>itemID</th>\n",
       "      <th>category</th>\n",
       "      <th>name</th>\n",
       "      <th>topBrand</th>\n",
       "      <th>brandCode</th>\n",
       "      <th>cpg_id</th>\n",
       "      <th>cpg_ref</th>\n",
       "    </tr>\n",
       "  </thead>\n",
       "  <tbody>\n",
       "    <tr>\n",
       "      <td>0</td>\n",
       "      <td>601ac115be37ce2ead437551</td>\n",
       "      <td>511111019862</td>\n",
       "      <td>Baking</td>\n",
       "      <td>test brand @1612366101024</td>\n",
       "      <td>0.0</td>\n",
       "      <td>NaN</td>\n",
       "      <td>601ac114be37ce2ead437550</td>\n",
       "      <td>Cogs</td>\n",
       "    </tr>\n",
       "    <tr>\n",
       "      <td>1</td>\n",
       "      <td>601c5460be37ce2ead43755f</td>\n",
       "      <td>511111519928</td>\n",
       "      <td>Beverages</td>\n",
       "      <td>Starbucks</td>\n",
       "      <td>0.0</td>\n",
       "      <td>STARBUCKS</td>\n",
       "      <td>5332f5fbe4b03c9a25efd0ba</td>\n",
       "      <td>Cogs</td>\n",
       "    </tr>\n",
       "    <tr>\n",
       "      <td>2</td>\n",
       "      <td>601ac142be37ce2ead43755d</td>\n",
       "      <td>511111819905</td>\n",
       "      <td>Baking</td>\n",
       "      <td>test brand @1612366146176</td>\n",
       "      <td>0.0</td>\n",
       "      <td>TEST BRANDCODE @1612366146176</td>\n",
       "      <td>601ac142be37ce2ead437559</td>\n",
       "      <td>Cogs</td>\n",
       "    </tr>\n",
       "    <tr>\n",
       "      <td>3</td>\n",
       "      <td>601ac142be37ce2ead43755a</td>\n",
       "      <td>511111519874</td>\n",
       "      <td>Baking</td>\n",
       "      <td>test brand @1612366146051</td>\n",
       "      <td>0.0</td>\n",
       "      <td>TEST BRANDCODE @1612366146051</td>\n",
       "      <td>601ac142be37ce2ead437559</td>\n",
       "      <td>Cogs</td>\n",
       "    </tr>\n",
       "    <tr>\n",
       "      <td>4</td>\n",
       "      <td>601ac142be37ce2ead43755e</td>\n",
       "      <td>511111319917</td>\n",
       "      <td>Candy &amp; Sweets</td>\n",
       "      <td>test brand @1612366146827</td>\n",
       "      <td>0.0</td>\n",
       "      <td>TEST BRANDCODE @1612366146827</td>\n",
       "      <td>5332fa12e4b03c9a25efd1e7</td>\n",
       "      <td>Cogs</td>\n",
       "    </tr>\n",
       "  </tbody>\n",
       "</table>\n",
       "</div>"
      ],
      "text/plain": [
       "                    brandID        itemID        category  \\\n",
       "0  601ac115be37ce2ead437551  511111019862          Baking   \n",
       "1  601c5460be37ce2ead43755f  511111519928       Beverages   \n",
       "2  601ac142be37ce2ead43755d  511111819905          Baking   \n",
       "3  601ac142be37ce2ead43755a  511111519874          Baking   \n",
       "4  601ac142be37ce2ead43755e  511111319917  Candy & Sweets   \n",
       "\n",
       "                        name  topBrand                      brandCode  \\\n",
       "0  test brand @1612366101024       0.0                            NaN   \n",
       "1                  Starbucks       0.0                      STARBUCKS   \n",
       "2  test brand @1612366146176       0.0  TEST BRANDCODE @1612366146176   \n",
       "3  test brand @1612366146051       0.0  TEST BRANDCODE @1612366146051   \n",
       "4  test brand @1612366146827       0.0  TEST BRANDCODE @1612366146827   \n",
       "\n",
       "                     cpg_id cpg_ref  \n",
       "0  601ac114be37ce2ead437550    Cogs  \n",
       "1  5332f5fbe4b03c9a25efd0ba    Cogs  \n",
       "2  601ac142be37ce2ead437559    Cogs  \n",
       "3  601ac142be37ce2ead437559    Cogs  \n",
       "4  5332fa12e4b03c9a25efd1e7    Cogs  "
      ]
     },
     "execution_count": 66,
     "metadata": {},
     "output_type": "execute_result"
    }
   ],
   "source": [
    "brands.head()"
   ]
  },
  {
   "cell_type": "markdown",
   "metadata": {},
   "source": [
    "# Categories Table"
   ]
  },
  {
   "cell_type": "code",
   "execution_count": 67,
   "metadata": {},
   "outputs": [
    {
     "name": "stdout",
     "output_type": "stream",
     "text": [
      "14\n",
      "14\n"
     ]
    },
    {
     "data": {
      "text/html": [
       "<div>\n",
       "<style scoped>\n",
       "    .dataframe tbody tr th:only-of-type {\n",
       "        vertical-align: middle;\n",
       "    }\n",
       "\n",
       "    .dataframe tbody tr th {\n",
       "        vertical-align: top;\n",
       "    }\n",
       "\n",
       "    .dataframe thead th {\n",
       "        text-align: right;\n",
       "    }\n",
       "</style>\n",
       "<table border=\"1\" class=\"dataframe\">\n",
       "  <thead>\n",
       "    <tr style=\"text-align: right;\">\n",
       "      <th></th>\n",
       "      <th>category</th>\n",
       "      <th>categoryCode</th>\n",
       "    </tr>\n",
       "  </thead>\n",
       "  <tbody>\n",
       "    <tr>\n",
       "      <td>0</td>\n",
       "      <td>Baking</td>\n",
       "      <td>BAKING</td>\n",
       "    </tr>\n",
       "    <tr>\n",
       "      <td>1</td>\n",
       "      <td>Beverages</td>\n",
       "      <td>BEVERAGES</td>\n",
       "    </tr>\n",
       "    <tr>\n",
       "      <td>4</td>\n",
       "      <td>Candy &amp; Sweets</td>\n",
       "      <td>CANDY_AND_SWEETS</td>\n",
       "    </tr>\n",
       "    <tr>\n",
       "      <td>16</td>\n",
       "      <td>Health &amp; Wellness</td>\n",
       "      <td>HEALTHY_AND_WELLNESS</td>\n",
       "    </tr>\n",
       "    <tr>\n",
       "      <td>68</td>\n",
       "      <td>Grocery</td>\n",
       "      <td>GROCERY</td>\n",
       "    </tr>\n",
       "  </tbody>\n",
       "</table>\n",
       "</div>"
      ],
      "text/plain": [
       "             category          categoryCode\n",
       "0              Baking                BAKING\n",
       "1           Beverages             BEVERAGES\n",
       "4      Candy & Sweets      CANDY_AND_SWEETS\n",
       "16  Health & Wellness  HEALTHY_AND_WELLNESS\n",
       "68            Grocery               GROCERY"
      ]
     },
     "execution_count": 67,
     "metadata": {},
     "output_type": "execute_result"
    }
   ],
   "source": [
    "categories = brands_copy.drop(['_id', 'barcode', 'cpg', 'name', 'topBrand', 'brandCode'], axis=1)\n",
    "categories = categories.dropna()\n",
    "categories = categories.drop_duplicates()\n",
    "print(len(categories))\n",
    "print(len(categories['category'].unique()))\n",
    "categories.head()"
   ]
  },
  {
   "cell_type": "markdown",
   "metadata": {},
   "source": [
    "# SQL Querying for Stakeholder Questions"
   ]
  },
  {
   "cell_type": "code",
   "execution_count": 68,
   "metadata": {},
   "outputs": [
    {
     "name": "stdout",
     "output_type": "stream",
     "text": [
      "Requirement already satisfied: ipython-sql in c:\\users\\12025\\anaconda3\\lib\\site-packages (0.5.0)\n",
      "Requirement already satisfied: sqlalchemy>=2.0 in c:\\users\\12025\\anaconda3\\lib\\site-packages (from ipython-sql) (2.0.41)\n",
      "Requirement already satisfied: sqlparse in c:\\users\\12025\\anaconda3\\lib\\site-packages (from ipython-sql) (0.4.4)\n",
      "Requirement already satisfied: six in c:\\users\\12025\\anaconda3\\lib\\site-packages (from ipython-sql) (1.13.0)\n",
      "Requirement already satisfied: ipython in c:\\users\\12025\\anaconda3\\lib\\site-packages (from ipython-sql) (7.8.0)\n",
      "Requirement already satisfied: prettytable in c:\\users\\12025\\anaconda3\\lib\\site-packages (from ipython-sql) (3.7.0)\n",
      "Requirement already satisfied: ipython-genutils in c:\\users\\12025\\anaconda3\\lib\\site-packages (from ipython-sql) (0.2.0)\n",
      "Requirement already satisfied: importlib-metadata; python_version < \"3.8\" in c:\\users\\12025\\anaconda3\\lib\\site-packages (from sqlalchemy>=2.0->ipython-sql) (1.6.0)\n",
      "Requirement already satisfied: typing-extensions>=4.6.0 in c:\\users\\12025\\anaconda3\\lib\\site-packages (from sqlalchemy>=2.0->ipython-sql) (4.7.1)\n",
      "Requirement already satisfied: greenlet>=1; python_version < \"3.14\" and (platform_machine == \"aarch64\" or (platform_machine == \"ppc64le\" or (platform_machine == \"x86_64\" or (platform_machine == \"amd64\" or (platform_machine == \"AMD64\" or (platform_machine == \"win32\" or platform_machine == \"WIN32\")))))) in c:\\users\\12025\\anaconda3\\lib\\site-packages (from sqlalchemy>=2.0->ipython-sql) (3.1.1)\n",
      "Requirement already satisfied: traitlets>=4.2 in c:\\users\\12025\\anaconda3\\lib\\site-packages (from ipython->ipython-sql) (4.3.3)\n",
      "Requirement already satisfied: pygments in c:\\users\\12025\\anaconda3\\lib\\site-packages (from ipython->ipython-sql) (2.4.2)\n",
      "Requirement already satisfied: setuptools>=18.5 in c:\\users\\12025\\anaconda3\\lib\\site-packages (from ipython->ipython-sql) (41.6.0)\n",
      "Requirement already satisfied: backcall in c:\\users\\12025\\anaconda3\\lib\\site-packages (from ipython->ipython-sql) (0.1.0)\n",
      "Requirement already satisfied: prompt-toolkit<2.1.0,>=2.0.0 in c:\\users\\12025\\anaconda3\\lib\\site-packages (from ipython->ipython-sql) (2.0.10)\n",
      "Requirement already satisfied: colorama; sys_platform == \"win32\" in c:\\users\\12025\\anaconda3\\lib\\site-packages (from ipython->ipython-sql) (0.4.1)\n",
      "Requirement already satisfied: decorator in c:\\users\\12025\\anaconda3\\lib\\site-packages (from ipython->ipython-sql) (4.4.0)\n",
      "Requirement already satisfied: pickleshare in c:\\users\\12025\\anaconda3\\lib\\site-packages (from ipython->ipython-sql) (0.7.5)\n",
      "Requirement already satisfied: jedi>=0.10 in c:\\users\\12025\\anaconda3\\lib\\site-packages (from ipython->ipython-sql) (0.15.1)\n",
      "Requirement already satisfied: wcwidth in c:\\users\\12025\\anaconda3\\lib\\site-packages (from prettytable->ipython-sql) (0.1.7)\n",
      "Requirement already satisfied: zipp>=0.5 in c:\\users\\12025\\anaconda3\\lib\\site-packages (from importlib-metadata; python_version < \"3.8\"->sqlalchemy>=2.0->ipython-sql) (0.6.0)\n",
      "Requirement already satisfied: parso>=0.5.0 in c:\\users\\12025\\anaconda3\\lib\\site-packages (from jedi>=0.10->ipython->ipython-sql) (0.5.1)\n",
      "Requirement already satisfied: more-itertools in c:\\users\\12025\\anaconda3\\lib\\site-packages (from zipp>=0.5->importlib-metadata; python_version < \"3.8\"->sqlalchemy>=2.0->ipython-sql) (7.2.0)\n"
     ]
    }
   ],
   "source": [
    "!pip install ipython-sql"
   ]
  },
  {
   "cell_type": "code",
   "execution_count": 69,
   "metadata": {},
   "outputs": [],
   "source": [
    "cnn = sqlite3.connect('receipts_data.db')\n",
    "\n",
    "receipts.to_sql('receipts', cnn, if_exists='replace')\n",
    "item_on_receipt.to_sql('items', cnn, if_exists='replace')\n",
    "users.to_sql('users', cnn, if_exists='replace')\n",
    "brands.to_sql('brands', cnn, if_exists='replace')\n",
    "categories.to_sql('categories', cnn, if_exists='replace')"
   ]
  },
  {
   "cell_type": "code",
   "execution_count": 70,
   "metadata": {},
   "outputs": [],
   "source": [
    "%load_ext sql\n",
    "\n",
    "%sql sqlite:///receipts_data.db"
   ]
  },
  {
   "cell_type": "markdown",
   "metadata": {},
   "source": [
    "# Questions 1-2\n",
    "What are the top 5 brands by receipts scanned for most recent month?\n",
    "\n",
    "How does the ranking of the top 5 brands by receipts scanned for the recent month compare to the ranking for the previous month?"
   ]
  },
  {
   "cell_type": "markdown",
   "metadata": {},
   "source": [
    "The most recent month is March 2021 and the second most recent is February 2021. However, due to the data quality issues, January is the only month that populates a list of brands, so I also included that month as proof of the code function."
   ]
  },
  {
   "cell_type": "code",
   "execution_count": 71,
   "metadata": {},
   "outputs": [
    {
     "name": "stdout",
     "output_type": "stream",
     "text": [
      " * sqlite:///receipts_data.db\n",
      "Done.\n"
     ]
    },
    {
     "data": {
      "text/html": [
       "<table>\n",
       "    <thead>\n",
       "        <tr>\n",
       "            <th>month</th>\n",
       "            <th>year</th>\n",
       "            <th>receipt_count</th>\n",
       "        </tr>\n",
       "    </thead>\n",
       "    <tbody>\n",
       "        <tr>\n",
       "            <td>01</td>\n",
       "            <td>2021</td>\n",
       "            <td>498</td>\n",
       "        </tr>\n",
       "        <tr>\n",
       "            <td>None</td>\n",
       "            <td>None</td>\n",
       "            <td>448</td>\n",
       "        </tr>\n",
       "        <tr>\n",
       "            <td>02</td>\n",
       "            <td>2021</td>\n",
       "            <td>87</td>\n",
       "        </tr>\n",
       "        <tr>\n",
       "            <td>08</td>\n",
       "            <td>2020</td>\n",
       "            <td>40</td>\n",
       "        </tr>\n",
       "        <tr>\n",
       "            <td>12</td>\n",
       "            <td>2020</td>\n",
       "            <td>25</td>\n",
       "        </tr>\n",
       "        <tr>\n",
       "            <td>10</td>\n",
       "            <td>2017</td>\n",
       "            <td>9</td>\n",
       "        </tr>\n",
       "        <tr>\n",
       "            <td>11</td>\n",
       "            <td>2020</td>\n",
       "            <td>6</td>\n",
       "        </tr>\n",
       "        <tr>\n",
       "            <td>03</td>\n",
       "            <td>2021</td>\n",
       "            <td>2</td>\n",
       "        </tr>\n",
       "        <tr>\n",
       "            <td>10</td>\n",
       "            <td>2020</td>\n",
       "            <td>2</td>\n",
       "        </tr>\n",
       "        <tr>\n",
       "            <td>01</td>\n",
       "            <td>2019</td>\n",
       "            <td>1</td>\n",
       "        </tr>\n",
       "        <tr>\n",
       "            <td>09</td>\n",
       "            <td>2020</td>\n",
       "            <td>1</td>\n",
       "        </tr>\n",
       "    </tbody>\n",
       "</table>"
      ],
      "text/plain": [
       "[('01', '2021', 498),\n",
       " (None, None, 448),\n",
       " ('02', '2021', 87),\n",
       " ('08', '2020', 40),\n",
       " ('12', '2020', 25),\n",
       " ('10', '2017', 9),\n",
       " ('11', '2020', 6),\n",
       " ('03', '2021', 2),\n",
       " ('10', '2020', 2),\n",
       " ('01', '2019', 1),\n",
       " ('09', '2020', 1)]"
      ]
     },
     "execution_count": 71,
     "metadata": {},
     "output_type": "execute_result"
    }
   ],
   "source": [
    "%%sql\n",
    "\n",
    "SELECT strftime('%m', purchaseDate) as month, strftime('%Y', purchaseDate) as year, COUNT(DISTINCT receiptID) as receipt_count\n",
    "FROM receipts\n",
    "GROUP BY month, year\n",
    "ORDER BY receipt_count DESC;"
   ]
  },
  {
   "cell_type": "markdown",
   "metadata": {},
   "source": [
    "There are many more receipts in January 2021 than any other month - even before considering missing data."
   ]
  },
  {
   "cell_type": "code",
   "execution_count": 72,
   "metadata": {},
   "outputs": [
    {
     "name": "stdout",
     "output_type": "stream",
     "text": [
      " * sqlite:///receipts_data.db\n",
      "Done.\n"
     ]
    },
    {
     "data": {
      "text/html": [
       "<table>\n",
       "    <thead>\n",
       "        <tr>\n",
       "            <th>name</th>\n",
       "            <th>receipt_count</th>\n",
       "        </tr>\n",
       "    </thead>\n",
       "    <tbody>\n",
       "    </tbody>\n",
       "</table>"
      ],
      "text/plain": [
       "[]"
      ]
     },
     "execution_count": 72,
     "metadata": {},
     "output_type": "execute_result"
    }
   ],
   "source": [
    "%%sql\n",
    "\n",
    "SELECT brands.name, COUNT(DISTINCT items.receiptID) AS receipt_count\n",
    "FROM items\n",
    "JOIN brands ON items.itemID = brands.itemID\n",
    "JOIN receipts ON items.receiptID = receipts.receiptID\n",
    "WHERE strftime('%m', receipts.purchaseDate) = '03' AND strftime('%Y', receipts.purchaseDate) = '2021'\n",
    "GROUP BY items.brandCode\n",
    "ORDER BY receipt_count DESC\n",
    "LIMIT 5;"
   ]
  },
  {
   "cell_type": "code",
   "execution_count": 73,
   "metadata": {},
   "outputs": [
    {
     "name": "stdout",
     "output_type": "stream",
     "text": [
      " * sqlite:///receipts_data.db\n",
      "Done.\n"
     ]
    },
    {
     "data": {
      "text/html": [
       "<table>\n",
       "    <thead>\n",
       "        <tr>\n",
       "            <th>name</th>\n",
       "            <th>receipt_count</th>\n",
       "        </tr>\n",
       "    </thead>\n",
       "    <tbody>\n",
       "    </tbody>\n",
       "</table>"
      ],
      "text/plain": [
       "[]"
      ]
     },
     "execution_count": 73,
     "metadata": {},
     "output_type": "execute_result"
    }
   ],
   "source": [
    "%%sql\n",
    "\n",
    "SELECT brands.name, COUNT(DISTINCT items.receiptID) AS receipt_count\n",
    "FROM items\n",
    "JOIN brands ON items.itemID = brands.itemID\n",
    "JOIN receipts ON items.receiptID = receipts.receiptID\n",
    "WHERE strftime('%m', receipts.purchaseDate) = '02' AND strftime('%Y', receipts.purchaseDate) = '2021'\n",
    "GROUP BY items.brandCode\n",
    "ORDER BY receipt_count DESC\n",
    "LIMIT 5;"
   ]
  },
  {
   "cell_type": "code",
   "execution_count": 74,
   "metadata": {},
   "outputs": [
    {
     "name": "stdout",
     "output_type": "stream",
     "text": [
      " * sqlite:///receipts_data.db\n",
      "Done.\n"
     ]
    },
    {
     "data": {
      "text/html": [
       "<table>\n",
       "    <thead>\n",
       "        <tr>\n",
       "            <th>name</th>\n",
       "            <th>receipt_count</th>\n",
       "        </tr>\n",
       "    </thead>\n",
       "    <tbody>\n",
       "        <tr>\n",
       "            <td>Tostitos</td>\n",
       "            <td>11</td>\n",
       "        </tr>\n",
       "        <tr>\n",
       "            <td>Swanson</td>\n",
       "            <td>11</td>\n",
       "        </tr>\n",
       "        <tr>\n",
       "            <td>Cracker Barrel Cheese</td>\n",
       "            <td>10</td>\n",
       "        </tr>\n",
       "        <tr>\n",
       "            <td>Diet Chris Cola</td>\n",
       "            <td>4</td>\n",
       "        </tr>\n",
       "        <tr>\n",
       "            <td>Kraft</td>\n",
       "            <td>3</td>\n",
       "        </tr>\n",
       "    </tbody>\n",
       "</table>"
      ],
      "text/plain": [
       "[('Tostitos', 11),\n",
       " ('Swanson', 11),\n",
       " ('Cracker Barrel Cheese', 10),\n",
       " ('Diet Chris Cola', 4),\n",
       " ('Kraft', 3)]"
      ]
     },
     "execution_count": 74,
     "metadata": {},
     "output_type": "execute_result"
    }
   ],
   "source": [
    "%%sql\n",
    "\n",
    "SELECT brands.name, COUNT(DISTINCT items.receiptID) AS receipt_count\n",
    "FROM items\n",
    "JOIN brands ON items.itemID = brands.itemID\n",
    "JOIN receipts ON items.receiptID = receipts.receiptID\n",
    "WHERE strftime('%m', receipts.purchaseDate) = '01' AND strftime('%Y', receipts.purchaseDate) = '2021'\n",
    "GROUP BY items.brandCode\n",
    "ORDER BY receipt_count DESC\n",
    "LIMIT 5;"
   ]
  },
  {
   "cell_type": "markdown",
   "metadata": {},
   "source": [
    "# Questions 3-4\n",
    "When considering average spend from receipts with 'rewardsReceiptStatus’ of ‘Accepted’ or ‘Rejected’, which is greater?\n",
    "\n",
    "When considering total number of items purchased from receipts with 'rewardsReceiptStatus’ of ‘Accepted’ or ‘Rejected’, which is greater?"
   ]
  },
  {
   "cell_type": "code",
   "execution_count": 75,
   "metadata": {},
   "outputs": [
    {
     "name": "stdout",
     "output_type": "stream",
     "text": [
      " * sqlite:///receipts_data.db\n",
      "Done.\n"
     ]
    },
    {
     "data": {
      "text/html": [
       "<table>\n",
       "    <thead>\n",
       "        <tr>\n",
       "            <th>rewardsReceiptStatus</th>\n",
       "            <th>avg_total_spend</th>\n",
       "        </tr>\n",
       "    </thead>\n",
       "    <tbody>\n",
       "        <tr>\n",
       "            <td>FINISHED</td>\n",
       "            <td>41.54855421686751</td>\n",
       "        </tr>\n",
       "        <tr>\n",
       "            <td>FLAGGED</td>\n",
       "            <td>102.7654285714286</td>\n",
       "        </tr>\n",
       "        <tr>\n",
       "            <td>REJECTED</td>\n",
       "            <td>26.204500000000014</td>\n",
       "        </tr>\n",
       "    </tbody>\n",
       "</table>"
      ],
      "text/plain": [
       "[('FINISHED', 41.54855421686751),\n",
       " ('FLAGGED', 102.7654285714286),\n",
       " ('REJECTED', 26.204500000000014)]"
      ]
     },
     "execution_count": 75,
     "metadata": {},
     "output_type": "execute_result"
    }
   ],
   "source": [
    "%%sql\n",
    "\n",
    "SELECT rewardsReceiptStatus, AVG(total_spend) as avg_total_spend\n",
    "FROM (\n",
    "SELECT receipts.receiptID, receipts.rewardsReceiptStatus, SUM(items.finalPrice) as total_spend\n",
    "FROM receipts\n",
    "JOIN items ON receipts.receiptID = items.receiptID\n",
    "GROUP BY receipts.receiptID\n",
    ")\n",
    "GROUP BY rewardsReceiptStatus;"
   ]
  },
  {
   "cell_type": "code",
   "execution_count": 76,
   "metadata": {},
   "outputs": [
    {
     "name": "stdout",
     "output_type": "stream",
     "text": [
      " * sqlite:///receipts_data.db\n",
      "Done.\n"
     ]
    },
    {
     "data": {
      "text/html": [
       "<table>\n",
       "    <thead>\n",
       "        <tr>\n",
       "            <th>rewardsReceiptStatus</th>\n",
       "            <th>avg_item_quantity</th>\n",
       "        </tr>\n",
       "    </thead>\n",
       "    <tbody>\n",
       "        <tr>\n",
       "            <td>FINISHED</td>\n",
       "            <td>5.520080321285141</td>\n",
       "        </tr>\n",
       "        <tr>\n",
       "            <td>FLAGGED</td>\n",
       "            <td>7.688888888888889</td>\n",
       "        </tr>\n",
       "        <tr>\n",
       "            <td>REJECTED</td>\n",
       "            <td>2.265625</td>\n",
       "        </tr>\n",
       "    </tbody>\n",
       "</table>"
      ],
      "text/plain": [
       "[('FINISHED', 5.520080321285141),\n",
       " ('FLAGGED', 7.688888888888889),\n",
       " ('REJECTED', 2.265625)]"
      ]
     },
     "execution_count": 76,
     "metadata": {},
     "output_type": "execute_result"
    }
   ],
   "source": [
    "%%sql\n",
    "\n",
    "SELECT rewardsReceiptStatus, AVG(item_count) as avg_item_quantity\n",
    "FROM (\n",
    "SELECT receipts.receiptID, receipts.rewardsReceiptStatus, COUNT(items.itemID) as item_count\n",
    "FROM receipts\n",
    "JOIN items ON receipts.receiptID = items.receiptID\n",
    "GROUP BY receipts.receiptID\n",
    ")\n",
    "GROUP BY rewardsReceiptStatus;"
   ]
  },
  {
   "cell_type": "markdown",
   "metadata": {},
   "source": [
    "\"Finished\" receipts had 59% higher spend and 144% more items than \"Rejected\" receipts."
   ]
  },
  {
   "cell_type": "markdown",
   "metadata": {},
   "source": [
    "# Questions 5-6\n",
    "Which brand has the most spend among users who were created within the past 6 months?\n",
    "\n",
    "Which brand has the most transactions among users who were created within the past 6 months?"
   ]
  },
  {
   "cell_type": "code",
   "execution_count": 77,
   "metadata": {},
   "outputs": [
    {
     "name": "stdout",
     "output_type": "stream",
     "text": [
      " * sqlite:///receipts_data.db\n",
      "Done.\n"
     ]
    },
    {
     "data": {
      "text/html": [
       "<table>\n",
       "    <thead>\n",
       "        <tr>\n",
       "            <th>name</th>\n",
       "            <th>avg_total_spend</th>\n",
       "        </tr>\n",
       "    </thead>\n",
       "    <tbody>\n",
       "    </tbody>\n",
       "</table>"
      ],
      "text/plain": [
       "[]"
      ]
     },
     "execution_count": 77,
     "metadata": {},
     "output_type": "execute_result"
    }
   ],
   "source": [
    "%%sql\n",
    "\n",
    "SELECT name, AVG(total_spend) as avg_total_spend\n",
    "FROM (\n",
    "SELECT brands.name, SUM(items.finalPrice) as total_spend\n",
    "FROM brands\n",
    "JOIN items ON brands.brandCode = items.brandCode\n",
    "JOIN receipts ON items.receiptID = receipts.receiptID\n",
    "JOIN users on receipts.userID = users.userID\n",
    "WHERE julianday('now') - julianday(users.createdDate) <= 180\n",
    "GROUP BY brands.name\n",
    ")\n",
    "GROUP BY name\n",
    "ORDER BY avg_total_spend DESC\n",
    "LIMIT 1;"
   ]
  },
  {
   "cell_type": "code",
   "execution_count": 78,
   "metadata": {},
   "outputs": [
    {
     "name": "stdout",
     "output_type": "stream",
     "text": [
      " * sqlite:///receipts_data.db\n",
      "Done.\n"
     ]
    },
    {
     "data": {
      "text/html": [
       "<table>\n",
       "    <thead>\n",
       "        <tr>\n",
       "            <th>name</th>\n",
       "            <th>avg_total_spend</th>\n",
       "        </tr>\n",
       "    </thead>\n",
       "    <tbody>\n",
       "        <tr>\n",
       "            <td>KNORR</td>\n",
       "            <td>548.1800000000001</td>\n",
       "        </tr>\n",
       "    </tbody>\n",
       "</table>"
      ],
      "text/plain": [
       "[('KNORR', 548.1800000000001)]"
      ]
     },
     "execution_count": 78,
     "metadata": {},
     "output_type": "execute_result"
    }
   ],
   "source": [
    "%%sql\n",
    "\n",
    "SELECT name, AVG(total_spend) as avg_total_spend\n",
    "FROM (\n",
    "SELECT brands.name, SUM(items.finalPrice) as total_spend\n",
    "FROM brands\n",
    "JOIN items ON brands.brandCode = items.brandCode\n",
    "JOIN receipts ON items.receiptID = receipts.receiptID\n",
    "JOIN users on receipts.userID = users.userID\n",
    "WHERE julianday('now') - julianday(users.createdDate) <= 365*10\n",
    "GROUP BY brands.name\n",
    ")\n",
    "GROUP BY name\n",
    "ORDER BY avg_total_spend DESC\n",
    "LIMIT 1;"
   ]
  },
  {
   "cell_type": "code",
   "execution_count": 79,
   "metadata": {},
   "outputs": [
    {
     "name": "stdout",
     "output_type": "stream",
     "text": [
      " * sqlite:///receipts_data.db\n",
      "Done.\n"
     ]
    },
    {
     "data": {
      "text/html": [
       "<table>\n",
       "    <thead>\n",
       "        <tr>\n",
       "            <th>name</th>\n",
       "            <th>transactions</th>\n",
       "        </tr>\n",
       "    </thead>\n",
       "    <tbody>\n",
       "    </tbody>\n",
       "</table>"
      ],
      "text/plain": [
       "[]"
      ]
     },
     "execution_count": 79,
     "metadata": {},
     "output_type": "execute_result"
    }
   ],
   "source": [
    "%%sql\n",
    "\n",
    "SELECT brands.name, COUNT(DISTINCT receipts.receiptID) as transactions\n",
    "FROM brands\n",
    "JOIN items ON brands.brandCode = items.brandCode\n",
    "JOIN receipts ON items.receiptID = receipts.receiptID\n",
    "JOIN users on receipts.userID = users.userID\n",
    "WHERE julianday('now') - julianday(users.createdDate) <= 180\n",
    "GROUP BY brands.name\n",
    "ORDER BY transactions DESC\n",
    "LIMIT 1;"
   ]
  },
  {
   "cell_type": "code",
   "execution_count": 80,
   "metadata": {},
   "outputs": [
    {
     "name": "stdout",
     "output_type": "stream",
     "text": [
      " * sqlite:///receipts_data.db\n",
      "Done.\n"
     ]
    },
    {
     "data": {
      "text/html": [
       "<table>\n",
       "    <thead>\n",
       "        <tr>\n",
       "            <th>name</th>\n",
       "            <th>transactions</th>\n",
       "        </tr>\n",
       "    </thead>\n",
       "    <tbody>\n",
       "        <tr>\n",
       "            <td>Kleenex</td>\n",
       "            <td>17</td>\n",
       "        </tr>\n",
       "    </tbody>\n",
       "</table>"
      ],
      "text/plain": [
       "[('Kleenex', 17)]"
      ]
     },
     "execution_count": 80,
     "metadata": {},
     "output_type": "execute_result"
    }
   ],
   "source": [
    "%%sql\n",
    "\n",
    "SELECT brands.name, COUNT(DISTINCT receipts.receiptID) as transactions\n",
    "FROM brands\n",
    "JOIN items ON brands.brandCode = items.brandCode\n",
    "JOIN receipts ON items.receiptID = receipts.receiptID\n",
    "JOIN users on receipts.userID = users.userID\n",
    "WHERE julianday('now') - julianday(users.createdDate) <= 365*10\n",
    "GROUP BY brands.name\n",
    "ORDER BY transactions DESC\n",
    "LIMIT 1;"
   ]
  },
  {
   "cell_type": "code",
   "execution_count": null,
   "metadata": {},
   "outputs": [],
   "source": []
  }
 ],
 "metadata": {
  "kernelspec": {
   "display_name": "Python 3",
   "language": "python",
   "name": "python3"
  },
  "language_info": {
   "codemirror_mode": {
    "name": "ipython",
    "version": 3
   },
   "file_extension": ".py",
   "mimetype": "text/x-python",
   "name": "python",
   "nbconvert_exporter": "python",
   "pygments_lexer": "ipython3",
   "version": "3.7.4"
  }
 },
 "nbformat": 4,
 "nbformat_minor": 2
}
